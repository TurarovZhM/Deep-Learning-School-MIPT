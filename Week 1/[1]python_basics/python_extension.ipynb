{
 "cells": [
  {
   "cell_type": "markdown",
   "metadata": {
    "colab_type": "text",
    "id": "Stge820q2d1d"
   },
   "source": [
    "<h2 style=\"text-align: center;\"><b>Python. Занятие 1: Дополнение</b></h2>"
   ]
  },
  {
   "cell_type": "markdown",
   "metadata": {
    "colab_type": "text",
    "id": "7XQ42g-z2d1j"
   },
   "source": [
    "<img align=left src=\"https://cdn.fedoramagazine.org/wp-content/uploads/2015/11/Python_logo.png\" style=\"height:160px;\" />\n",
    "\n",
    "<img align=center src=\"https://1.bp.blogspot.com/-16utHnlB3Ao/V4tpG8NBX0I/AAAAAAAAA7M/vDQ1p40JpE8M34eCr-UdriSV04Dn8au7QCLcB/s1600/jupyter-logo.png\" style=\"height:90px;\" />"
   ]
  },
  {
   "cell_type": "markdown",
   "metadata": {
    "colab_type": "text",
    "id": "l8V2fdfy2d1m"
   },
   "source": [
    "Этот ноутбук -- дополнение к python_basics.ipynb. Здесь разобраны некоторые полезные конструкции и функции языка Python. Опять же, ноутбук не претендует на охват всех возможностей языка!"
   ]
  },
  {
   "cell_type": "markdown",
   "metadata": {
    "colab_type": "text",
    "id": "s6H55PRg2d1p"
   },
   "source": [
    "### list comprehensions"
   ]
  },
  {
   "cell_type": "markdown",
   "metadata": {
    "colab_type": "text",
    "id": "myYtvrEH2d1r"
   },
   "source": [
    "<img align=center src=\"http://images7.memedroid.com/images/UPLOADED973/596e4c96650e5.jpeg\" style=\"height:400px;\"/>"
   ]
  },
  {
   "cell_type": "markdown",
   "metadata": {
    "colab_type": "text",
    "id": "81c3upgh2d1t"
   },
   "source": [
    "Давайте зададимся вопросом: как создать массив с числами от 1 до 100, которые делятся на 5?\n",
    "\n",
    "* Решение 1:\n",
    "\n",
    "```\n",
    "mas = []\n",
    "for i in range(100):\n",
    "    if i % 5 == 0:\n",
    "        mas.append(i)\n",
    "```\n",
    "\n",
    "Это довольно долго писать и в коде выглядит некомпактно.\n",
    "\n",
    "* Решение 2:"
   ]
  },
  {
   "cell_type": "code",
   "execution_count": 1,
   "metadata": {
    "colab": {},
    "colab_type": "code",
    "id": "nd6jZWAl2d1v"
   },
   "outputs": [
    {
     "data": {
      "text/plain": [
       "[0, 5, 10, 15, 20, 25, 30, 35, 40, 45, 50, 55, 60, 65, 70, 75, 80, 85, 90, 95]"
      ]
     },
     "execution_count": 1,
     "metadata": {},
     "output_type": "execute_result"
    }
   ],
   "source": [
    "mas = [x for x in range(100) if x%5==0]\n",
    "mas"
   ]
  },
  {
   "cell_type": "markdown",
   "metadata": {
    "colab_type": "text",
    "id": "MUL5tuNP2d10"
   },
   "source": [
    "Здесь код записан так, что его можно легко можно прочитать на естественном языке: \n",
    "\n",
    "\" положи в массив mas такие числа х из отрезка [0, 100], что х делится на 5\""
   ]
  },
  {
   "cell_type": "markdown",
   "metadata": {
    "colab_type": "text",
    "id": "m1vuSXH_2d12"
   },
   "source": [
    "Таким же образом можно записывать в питоне многие другие конструкции такого типа. Вот примеры еще нескольких:"
   ]
  },
  {
   "cell_type": "code",
   "execution_count": 3,
   "metadata": {
    "colab": {},
    "colab_type": "code",
    "id": "b0Keh_lR2d13"
   },
   "outputs": [
    {
     "name": "stdout",
     "output_type": "stream",
     "text": [
      "[0, 1, 4, 9, 16, 25, 36, 49, 64, 81]\n",
      "['even', 'odd', 'even', 'odd', 'even', 'odd', 'even', 'odd', 'even', 'odd']\n"
     ]
    }
   ],
   "source": [
    "# массив квадратов чисел от 0 до 9\n",
    "mas = [x**2 for x in range(10)]\n",
    "print(mas)\n",
    "\n",
    "# массив, на нечетных индексах которого находятся слова \"odd\", а четных -- \"even\"\n",
    "mas = [\"odd\" if x%2==1 else \"even\" for x in range(10)]\n",
    "print(mas)"
   ]
  },
  {
   "cell_type": "markdown",
   "metadata": {
    "colab_type": "text",
    "id": "1dN6iNkD2d17"
   },
   "source": [
    "Так же можно создавать словари:"
   ]
  },
  {
   "cell_type": "code",
   "execution_count": 4,
   "metadata": {
    "colab": {},
    "colab_type": "code",
    "id": "EVl9tRRU2d19"
   },
   "outputs": [
    {
     "data": {
      "text/plain": [
       "{'zero': 0, 'first': 1, 'second': 2}"
      ]
     },
     "execution_count": 4,
     "metadata": {},
     "output_type": "execute_result"
    }
   ],
   "source": [
    "d = {word: i for i, word in enumerate([\"zero\", \"first\", \"second\"])}\n",
    "d"
   ]
  },
  {
   "cell_type": "markdown",
   "metadata": {
    "colab_type": "text",
    "id": "6gAv4fNm2d2B"
   },
   "source": [
    "### Задание 1\n",
    "\n",
    "Пусть есть массив mas. С помощью list comprehensions создайте второй массив, где на четных индексах будут находиться соответствующие элементы массива mas, умноженные на 10, а на нечетных индексах -- единицы\n",
    "\n"
   ]
  },
  {
   "cell_type": "code",
   "execution_count": 6,
   "metadata": {
    "colab": {},
    "colab_type": "code",
    "id": "zkMjCQtL2d2C"
   },
   "outputs": [
    {
     "name": "stdout",
     "output_type": "stream",
     "text": [
      "[1, 20, 1, 40, 1]\n"
     ]
    }
   ],
   "source": [
    "# your code here\n",
    "mas = [1, 2, 3, 4, 5]\n",
    "mas2 = [x * 10 if x%2 == 0 else 1 for i, x in enumerate(mas)]\n",
    "print(mas2)"
   ]
  },
  {
   "cell_type": "markdown",
   "metadata": {
    "colab_type": "text",
    "id": "EvsoTGB72d2E"
   },
   "source": [
    "---------------"
   ]
  },
  {
   "cell_type": "markdown",
   "metadata": {
    "colab_type": "text",
    "id": "N6Ns0rB52d2F"
   },
   "source": [
    "### functions, lambdas"
   ]
  },
  {
   "cell_type": "markdown",
   "metadata": {
    "colab_type": "text",
    "id": "MnASYznX2d2G"
   },
   "source": [
    "**функции**"
   ]
  },
  {
   "cell_type": "markdown",
   "metadata": {
    "colab_type": "text",
    "id": "MtrFRSQA2d2H"
   },
   "source": [
    "Это такие объекты в питоне, которые принимают некоторые параметры (переменные), исполняют некоторый код внутри себя и, возможно, возвращают некоторое значение. \n",
    "\n",
    "Рассмотрим баристу в кофейне. Он -- \"функция\", которая умеет делать кофе. В качестве параметров вы говорите ему размер стакана кофе, который хотите получить и количество сахара, которое туда положить. Далее бариста делает вам кофе и отдает его вам. \n",
    "\n",
    "В питоновском коде это можно записать примерно так:"
   ]
  },
  {
   "cell_type": "code",
   "execution_count": 7,
   "metadata": {
    "colab": {},
    "colab_type": "code",
    "id": "8tIsKz772d2I"
   },
   "outputs": [],
   "source": [
    "def make_coffee(size, sugar_dose=3):\n",
    "    if sugar_dose > 5:\n",
    "        return 'Too much sugar! Be careful! :('\n",
    "    else:\n",
    "        return 'Done: cup of {0} ml size; amount of sugar = {1}'.format(size, sugar_dose)"
   ]
  },
  {
   "cell_type": "markdown",
   "metadata": {
    "colab_type": "text",
    "id": "-3PhpyuG2d2L"
   },
   "source": [
    "То есть, чтобы определить функцию, нужно написать ключевое слово `def`, далее название функции и в круглых скобочках список параметров, которые она принимает. Далее после двоеточия со следующей строки идет тело функции -- тот код, который функция выполняет. Код функции пишется с отступом в 4 пробела от уровня `def`"
   ]
  },
  {
   "cell_type": "markdown",
   "metadata": {
    "colab_type": "text",
    "id": "XyacAiPW2d2N"
   },
   "source": [
    "Давайте, например, напишем функцию, которая принимает переменную x и вычисляет $x^2$"
   ]
  },
  {
   "cell_type": "code",
   "execution_count": 8,
   "metadata": {
    "colab": {},
    "colab_type": "code",
    "id": "eLjDjEUM2d2O"
   },
   "outputs": [
    {
     "data": {
      "text/plain": [
       "25"
      ]
     },
     "execution_count": 8,
     "metadata": {},
     "output_type": "execute_result"
    }
   ],
   "source": [
    "def square(x):\n",
    "    y = x**2\n",
    "    return y\n",
    "\n",
    "square(5)"
   ]
  },
  {
   "cell_type": "markdown",
   "metadata": {
    "colab_type": "text",
    "id": "MoXtVj-t2d2R"
   },
   "source": [
    "Существует еще один способ записи функций -- **lambda**-выражения. С использованием них наша функция square выше выглядела бы так:"
   ]
  },
  {
   "cell_type": "code",
   "execution_count": 9,
   "metadata": {
    "colab": {},
    "colab_type": "code",
    "id": "1gN72_E92d2S"
   },
   "outputs": [
    {
     "data": {
      "text/plain": [
       "25"
      ]
     },
     "execution_count": 9,
     "metadata": {},
     "output_type": "execute_result"
    }
   ],
   "source": [
    "square = lambda x: x**2\n",
    "\n",
    "square(5)"
   ]
  },
  {
   "cell_type": "markdown",
   "metadata": {
    "colab_type": "text",
    "id": "vKExTFca2d2W"
   },
   "source": [
    "Чтобы записать функцию в виде lambda, нужно написать ключевое слово lambda, после список переменных, которые функция принимает (в нашем случае это x), а затем после ':' -- возвращаемое функцией значение.   "
   ]
  },
  {
   "cell_type": "markdown",
   "metadata": {
    "colab_type": "text",
    "id": "IUYJlUDf2d2X"
   },
   "source": [
    "Такой способ записи короче, но менее читабельный. Не нужно использовать его везде. Есть моменты, в которых он удобен, например, при задании ключа при сортировке (об этом ниже в этом ноутбуке), то етсь, когда вам нужно **передать функцию в другую функцию**"
   ]
  },
  {
   "cell_type": "markdown",
   "metadata": {
    "colab_type": "text",
    "id": "3V0KEBtp8qs9"
   },
   "source": [
    "--------------"
   ]
  },
  {
   "cell_type": "markdown",
   "metadata": {
    "colab_type": "text",
    "id": "ZaJTlEtC2d2Y"
   },
   "source": [
    "### Задание 2\n",
    "\n",
    "Напишите функцию, которая принимает массив и индекс i и возвращает произведение всех элементов массива, находящийхся на этом индексах от 0 до i"
   ]
  },
  {
   "cell_type": "code",
   "execution_count": 12,
   "metadata": {
    "colab": {},
    "colab_type": "code",
    "id": "mDCk7UMa2d2Z"
   },
   "outputs": [],
   "source": [
    "# your code here\n",
    "def f(arr, i):\n",
    "    res = 1\n",
    "    for j in range(i):\n",
    "        res *= arr[j]\n",
    "    return res"
   ]
  },
  {
   "cell_type": "markdown",
   "metadata": {
    "colab_type": "text",
    "id": "V9DgiraX2d2d"
   },
   "source": [
    "------------------"
   ]
  },
  {
   "cell_type": "markdown",
   "metadata": {
    "colab_type": "text",
    "id": "AEP_z6nS8uzF"
   },
   "source": [
    "### Print"
   ]
  },
  {
   "cell_type": "markdown",
   "metadata": {
    "colab_type": "text",
    "id": "KvGSpU2-8xB4"
   },
   "source": [
    "`print(x)`, как известно, выводит на экран содержимое переменной x и далее перевод строки ('\\n'). Но что если мы не хотим, чтобы после вывода x выводился перевод строки? Например, если мы выводим целые числа от 1 до 100 в цикле и не хотим, чтобы каждое число выводилось на новой строке, а, например, хотим вывести их все через пробел.\n",
    "\n",
    "Для этого в print  можно передать аргумент end со значением, которое вы хотите, чтобы выводилось после вывода х:"
   ]
  },
  {
   "cell_type": "code",
   "execution_count": 13,
   "metadata": {
    "colab": {},
    "colab_type": "code",
    "id": "ege7qvE59Yvs"
   },
   "outputs": [
    {
     "name": "stdout",
     "output_type": "stream",
     "text": [
      "123456789"
     ]
    }
   ],
   "source": [
    "for i in range(1, 10):\n",
    "  # после i будет выводиться пустая строка\n",
    "  # т.е. все числа от 1 до 9 выведутся слитно\n",
    "  print(i, end='')"
   ]
  },
  {
   "cell_type": "code",
   "execution_count": 14,
   "metadata": {
    "colab": {},
    "colab_type": "code",
    "id": "5FFIt2BV9jOZ"
   },
   "outputs": [
    {
     "name": "stdout",
     "output_type": "stream",
     "text": [
      "1 2 3 4 5 6 7 8 9 "
     ]
    }
   ],
   "source": [
    "for i in range(1, 10):\n",
    "  # после i будет выводиться пробел\n",
    "  # т.е. все числа от 1 до 9 выведутся через пробел\n",
    "  print(i, end=' ')"
   ]
  },
  {
   "cell_type": "code",
   "execution_count": 15,
   "metadata": {
    "colab": {},
    "colab_type": "code",
    "id": "jgX6babr9m1m"
   },
   "outputs": [
    {
     "name": "stdout",
     "output_type": "stream",
     "text": [
      "1|2|3|4|5|6|7|8|9|"
     ]
    }
   ],
   "source": [
    "for i in range(1, 10):\n",
    "  # заметьте, что после последнего числа разделитель тоже вывелся\n",
    "  print(i, end='|')"
   ]
  },
  {
   "cell_type": "markdown",
   "metadata": {
    "colab_type": "text",
    "id": "VyZMMeIr2d2e"
   },
   "source": [
    "### map, filter"
   ]
  },
  {
   "cell_type": "markdown",
   "metadata": {
    "colab_type": "text",
    "id": "DLRxJkIF2d2f"
   },
   "source": [
    "Функция **map(func, iterable)** - выполняет преобразование func над элементами iterable и возвращает новый iterable.\n",
    "\n",
    "Проще говоря, func -- это функция, которая принимает элемент того же типа, что элементы iterable, и возвращает некий элемент (возможно, другого типа). iterable -- некоторый iterable элементов (list, tuple, ...). \n",
    "\n",
    "Пример:"
   ]
  },
  {
   "cell_type": "code",
   "execution_count": 16,
   "metadata": {
    "colab": {},
    "colab_type": "code",
    "id": "dFqQP8K42d2f"
   },
   "outputs": [],
   "source": [
    "words = ['I', 'am', 'iterable', 'of', 'words']"
   ]
  },
  {
   "cell_type": "code",
   "execution_count": 17,
   "metadata": {
    "colab": {},
    "colab_type": "code",
    "id": "dczQm2uE2d2j"
   },
   "outputs": [
    {
     "name": "stdout",
     "output_type": "stream",
     "text": [
      "['I', 'am', 'iterable', 'of', 'words']\n",
      "\n",
      "[1, 2, 8, 2, 5]\n"
     ]
    }
   ],
   "source": [
    "letter_counts = list(map(lambda x: len(x), words))\n",
    "\n",
    "print(words)\n",
    "print()\n",
    "print(letter_counts)"
   ]
  },
  {
   "cell_type": "markdown",
   "metadata": {
    "colab_type": "text",
    "id": "x2_JuQNU2d2n"
   },
   "source": [
    "Также на место iterable можно поставить сразу несколько iterable -- например, 3 list'a. Тогда функция func должны принимать стлько аргументов, сколько iterable вы передаете, а возвращать все равно один. В func в качестве параметров будут передаваться по одному элементу из каждого iterable.\n",
    "\n",
    "Пример:"
   ]
  },
  {
   "cell_type": "code",
   "execution_count": 21,
   "metadata": {
    "colab": {},
    "colab_type": "code",
    "id": "G3juNWvH2d2o"
   },
   "outputs": [
    {
     "name": "stdout",
     "output_type": "stream",
     "text": [
      "[113, 116, 119]\n"
     ]
    }
   ],
   "source": [
    "list1 = [1,2,3,4]\n",
    "list2 = [11, 12, 13, 14, 15]\n",
    "list3 = [101, 102, 103]\n",
    "\n",
    "triple_sum = list(map(lambda x, y, z: x + y + z, list1, list2, list3))\n",
    "print(triple_sum)"
   ]
  },
  {
   "cell_type": "markdown",
   "metadata": {
    "colab_type": "text",
    "id": "KV55a46Y2d2q"
   },
   "source": [
    "**filter(predicate, iterable)** - оставляет только те элементы из iterable, для которых верен предикат predicate (предикат -- это функция, возвращающая значение типа bool. filter оставляет только те значения x из iterable, для которых predicate(x)==True):"
   ]
  },
  {
   "cell_type": "code",
   "execution_count": 22,
   "metadata": {
    "colab": {},
    "colab_type": "code",
    "id": "vXmqB7tP2d2q"
   },
   "outputs": [
    {
     "name": "stdout",
     "output_type": "stream",
     "text": [
      "['мак', 'мак', 'мак', 'мак', 'мак']\n"
     ]
    }
   ],
   "source": [
    "mixed = ['мак', 'просо', 'мак', 'мак', 'просо', 'мак', 'просо', 'просо', 'просо', 'мак']\n",
    "\n",
    "only_mac = list(filter(lambda x: x == 'мак', mixed))\n",
    "print(only_mac)"
   ]
  },
  {
   "cell_type": "markdown",
   "metadata": {
    "colab_type": "text",
    "id": "XXPAkPSd2d2u"
   },
   "source": [
    "### Задание 3\n",
    "\n",
    "Напишите одну строчку кода, которая из массива целых чисел mas сделает массив, в котором будут числа из массива mas, которые делятся на 3, возведенные в квадрат"
   ]
  },
  {
   "cell_type": "code",
   "execution_count": 25,
   "metadata": {
    "colab": {},
    "colab_type": "code",
    "id": "ht2hqVih2d2u"
   },
   "outputs": [
    {
     "name": "stdout",
     "output_type": "stream",
     "text": [
      "[0, 9, 36, 81, 144, 225, 324]\n"
     ]
    }
   ],
   "source": [
    "# your code here\n",
    "mas = list(range(20))\n",
    "mas2 = [i**2 for i in filter(lambda x: x%3==0, mas)]\n",
    "print(mas2)"
   ]
  },
  {
   "cell_type": "markdown",
   "metadata": {
    "colab_type": "text",
    "id": "cglQ6JNB2d2v"
   },
   "source": [
    "### Задание 4\n",
    "\n",
    "Дан массив строк: ['agfkd.,f', 'Qksdf;sb&..', 'asdoo*', 'bgf...d', 're54()kj[]].']\n",
    "\n",
    "Создайте список, состоящий из количества точек в каждой строке. Выведите его\n",
    "Создайте новый список, в котором будут только строки, в которых более 2-х точек. Выведите его.\n",
    "\n",
    "\n",
    "Циклами пользоваться нельзя."
   ]
  },
  {
   "cell_type": "code",
   "execution_count": 31,
   "metadata": {
    "colab": {},
    "colab_type": "code",
    "id": "ecpr7p9p2d2w"
   },
   "outputs": [
    {
     "name": "stdout",
     "output_type": "stream",
     "text": [
      "[1, 2, 0, 3, 1]\n",
      "['bgf...d']\n"
     ]
    }
   ],
   "source": [
    "# your code here\n",
    "mas = ['agfkd.,f', 'Qksdf;sb&..', 'asdoo*', 'bgf...d', 're54()kj[]].']\n",
    "mas2 = [x.count('.') for x in mas]\n",
    "print(mas2)\n",
    "mas3 = [x for x in filter(lambda x: x.count('.') > 2, mas)]\n",
    "print(mas3)"
   ]
  },
  {
   "cell_type": "markdown",
   "metadata": {
    "colab_type": "text",
    "id": "FtZ6H9sd2d2x"
   },
   "source": [
    "-------------"
   ]
  },
  {
   "cell_type": "markdown",
   "metadata": {
    "colab_type": "text",
    "id": "jxfw8Oia2d2y"
   },
   "source": [
    "### files"
   ]
  },
  {
   "cell_type": "markdown",
   "metadata": {
    "colab_type": "text",
    "id": "wT0VxQFL2d2z"
   },
   "source": [
    "Из питона можно работать с файлами, которые лежат на диске -- открывать их, читать содержимое, записывать данные в файл, читать файл построчно."
   ]
  },
  {
   "cell_type": "markdown",
   "metadata": {
    "colab_type": "text",
    "id": "qRwUksBL2d2z"
   },
   "source": [
    "Чтобы открыть файл, нужно указать путь к файлу функции `open`. Путь может быть относительным той директории, в которой находится этот ноутбук, или абсолютным (про пути: http://phpfaq.ru/newbie/paths)\n",
    "\n",
    "Кроме пути к файлу функции open необходимо указать мод, в котором мы откроем файл -- на чтение, на запись, на дозапись и т.п. Ниже приведена таблица со значениями модов. "
   ]
  },
  {
   "cell_type": "markdown",
   "metadata": {
    "colab_type": "text",
    "id": "Q29f21zO2d20"
   },
   "source": [
    "| Режим | Обозначение |\n",
    "|-------|-------------|\n",
    "| **'r'**  | Открытие на **чтение** (является значением по умолчанию) |\n",
    "| **'rb'** | Открытие на **чтение**, в предположении, что будут считываться **байты** |\n",
    "| **'w'** | Открытие на **запись**, содержимое файла удаляется. Если файла не существует, создается новый |\n",
    "| **'wb**' | Открытие на **запись байтов**, содержимое файла удаляется. Если файла не существует, создается новый |\n",
    "| **'a'** | Открытие на **дозапись**, информация добавляется **в конец файла** |\n",
    "| **'r+'** | Открыть файл на **чтение И запись**. Если файла нет, **новый НЕ создаётся** |\n",
    "| **'a+'** | Открыть файл на **чтение И запись в конец файла**. Если файла нет, **новый создаётся** |\n",
    "| **'t'** | Открытие файла **как текстового** (по умолчанию) |"
   ]
  },
  {
   "cell_type": "markdown",
   "metadata": {
    "colab_type": "text",
    "id": "J3P8al_k2d20"
   },
   "source": [
    "Откроем файл с первым ноутбуком по питону:"
   ]
  },
  {
   "cell_type": "code",
   "execution_count": 1,
   "metadata": {
    "colab": {},
    "colab_type": "code",
    "id": "3gn5Zcfz2d21"
   },
   "outputs": [],
   "source": [
    "# первый ноутбук лежит в той же папке, что и этот\n",
    "path = './python_basics.ipynb'\n",
    "# откроем на чтение\n",
    "file = open(path, mode='r')"
   ]
  },
  {
   "cell_type": "markdown",
   "metadata": {
    "colab_type": "text",
    "id": "wbTU9stx2d22"
   },
   "source": [
    "Теперь мы можем читать из файла. Давайте посмотрим, как читать построчно:"
   ]
  },
  {
   "cell_type": "code",
   "execution_count": 2,
   "metadata": {
    "colab": {},
    "colab_type": "code",
    "id": "uMJs7yDS2d24"
   },
   "outputs": [
    {
     "ename": "UnicodeDecodeError",
     "evalue": "'charmap' codec can't decode byte 0x98 in position 7857: character maps to <undefined>",
     "output_type": "error",
     "traceback": [
      "\u001b[1;31m---------------------------------------------------------------------------\u001b[0m",
      "\u001b[1;31mUnicodeDecodeError\u001b[0m                        Traceback (most recent call last)",
      "\u001b[1;32m<ipython-input-2-a85132b7b6f2>\u001b[0m in \u001b[0;36m<module>\u001b[1;34m\u001b[0m\n\u001b[1;32m----> 1\u001b[1;33m \u001b[1;32mfor\u001b[0m \u001b[0mi\u001b[0m\u001b[1;33m,\u001b[0m \u001b[0mline\u001b[0m \u001b[1;32min\u001b[0m \u001b[0menumerate\u001b[0m\u001b[1;33m(\u001b[0m\u001b[0mfile\u001b[0m\u001b[1;33m)\u001b[0m\u001b[1;33m:\u001b[0m \u001b[1;31m# каждую итерацию цикла в line запишется очередная строка файла\u001b[0m\u001b[1;33m\u001b[0m\u001b[0m\n\u001b[0m\u001b[0;32m      2\u001b[0m     \u001b[0mprint\u001b[0m\u001b[1;33m(\u001b[0m\u001b[0mline\u001b[0m\u001b[1;33m)\u001b[0m\u001b[1;33m\u001b[0m\u001b[0m\n\u001b[0;32m      3\u001b[0m     \u001b[1;31m# если мы вывели 10 строк, остановим цикл\u001b[0m\u001b[1;33m\u001b[0m\u001b[1;33m\u001b[0m\u001b[0m\n\u001b[0;32m      4\u001b[0m     \u001b[1;32mif\u001b[0m \u001b[0mi\u001b[0m \u001b[1;33m==\u001b[0m \u001b[1;36m10\u001b[0m\u001b[1;33m:\u001b[0m\u001b[1;33m\u001b[0m\u001b[0m\n\u001b[0;32m      5\u001b[0m         \u001b[1;32mbreak\u001b[0m\u001b[1;33m\u001b[0m\u001b[0m\n",
      "\u001b[1;32md:\\own\\ml\\deep-learning-school-mipt\\venv\\lib\\encodings\\cp1251.py\u001b[0m in \u001b[0;36mdecode\u001b[1;34m(self, input, final)\u001b[0m\n\u001b[0;32m     21\u001b[0m \u001b[1;32mclass\u001b[0m \u001b[0mIncrementalDecoder\u001b[0m\u001b[1;33m(\u001b[0m\u001b[0mcodecs\u001b[0m\u001b[1;33m.\u001b[0m\u001b[0mIncrementalDecoder\u001b[0m\u001b[1;33m)\u001b[0m\u001b[1;33m:\u001b[0m\u001b[1;33m\u001b[0m\u001b[0m\n\u001b[0;32m     22\u001b[0m     \u001b[1;32mdef\u001b[0m \u001b[0mdecode\u001b[0m\u001b[1;33m(\u001b[0m\u001b[0mself\u001b[0m\u001b[1;33m,\u001b[0m \u001b[0minput\u001b[0m\u001b[1;33m,\u001b[0m \u001b[0mfinal\u001b[0m\u001b[1;33m=\u001b[0m\u001b[1;32mFalse\u001b[0m\u001b[1;33m)\u001b[0m\u001b[1;33m:\u001b[0m\u001b[1;33m\u001b[0m\u001b[0m\n\u001b[1;32m---> 23\u001b[1;33m         \u001b[1;32mreturn\u001b[0m \u001b[0mcodecs\u001b[0m\u001b[1;33m.\u001b[0m\u001b[0mcharmap_decode\u001b[0m\u001b[1;33m(\u001b[0m\u001b[0minput\u001b[0m\u001b[1;33m,\u001b[0m\u001b[0mself\u001b[0m\u001b[1;33m.\u001b[0m\u001b[0merrors\u001b[0m\u001b[1;33m,\u001b[0m\u001b[0mdecoding_table\u001b[0m\u001b[1;33m)\u001b[0m\u001b[1;33m[\u001b[0m\u001b[1;36m0\u001b[0m\u001b[1;33m]\u001b[0m\u001b[1;33m\u001b[0m\u001b[0m\n\u001b[0m\u001b[0;32m     24\u001b[0m \u001b[1;33m\u001b[0m\u001b[0m\n\u001b[0;32m     25\u001b[0m \u001b[1;32mclass\u001b[0m \u001b[0mStreamWriter\u001b[0m\u001b[1;33m(\u001b[0m\u001b[0mCodec\u001b[0m\u001b[1;33m,\u001b[0m\u001b[0mcodecs\u001b[0m\u001b[1;33m.\u001b[0m\u001b[0mStreamWriter\u001b[0m\u001b[1;33m)\u001b[0m\u001b[1;33m:\u001b[0m\u001b[1;33m\u001b[0m\u001b[0m\n",
      "\u001b[1;31mUnicodeDecodeError\u001b[0m: 'charmap' codec can't decode byte 0x98 in position 7857: character maps to <undefined>"
     ]
    }
   ],
   "source": [
    "for i, line in enumerate(file): # каждую итерацию цикла в line запишется очередная строка файла \n",
    "    print(line)\n",
    "    # если мы вывели 10 строк, остановим цикл\n",
    "    if i == 10:\n",
    "        break"
   ]
  },
  {
   "cell_type": "markdown",
   "metadata": {
    "colab_type": "text",
    "id": "5BC5wCOK2d25"
   },
   "source": [
    "Можно прочитать и весь файл целиком:"
   ]
  },
  {
   "cell_type": "code",
   "execution_count": 34,
   "metadata": {
    "colab": {},
    "colab_type": "code",
    "id": "1HcC-IMn2d25"
   },
   "outputs": [
    {
     "ename": "UnicodeDecodeError",
     "evalue": "'charmap' codec can't decode byte 0x98 in position 52942: character maps to <undefined>",
     "output_type": "error",
     "traceback": [
      "\u001b[1;31m---------------------------------------------------------------------------\u001b[0m",
      "\u001b[1;31mUnicodeDecodeError\u001b[0m                        Traceback (most recent call last)",
      "\u001b[1;32m<ipython-input-34-94a652c86bec>\u001b[0m in \u001b[0;36m<module>\u001b[1;34m\u001b[0m\n\u001b[1;32m----> 1\u001b[1;33m \u001b[0mcontent\u001b[0m \u001b[1;33m=\u001b[0m \u001b[0mfile\u001b[0m\u001b[1;33m.\u001b[0m\u001b[0mread\u001b[0m\u001b[1;33m(\u001b[0m\u001b[1;33m)\u001b[0m\u001b[1;33m\u001b[0m\u001b[0m\n\u001b[0m",
      "\u001b[1;32md:\\study\\self study\\deep-learning-school-mipt\\venv\\lib\\encodings\\cp1251.py\u001b[0m in \u001b[0;36mdecode\u001b[1;34m(self, input, final)\u001b[0m\n\u001b[0;32m     21\u001b[0m \u001b[1;32mclass\u001b[0m \u001b[0mIncrementalDecoder\u001b[0m\u001b[1;33m(\u001b[0m\u001b[0mcodecs\u001b[0m\u001b[1;33m.\u001b[0m\u001b[0mIncrementalDecoder\u001b[0m\u001b[1;33m)\u001b[0m\u001b[1;33m:\u001b[0m\u001b[1;33m\u001b[0m\u001b[0m\n\u001b[0;32m     22\u001b[0m     \u001b[1;32mdef\u001b[0m \u001b[0mdecode\u001b[0m\u001b[1;33m(\u001b[0m\u001b[0mself\u001b[0m\u001b[1;33m,\u001b[0m \u001b[0minput\u001b[0m\u001b[1;33m,\u001b[0m \u001b[0mfinal\u001b[0m\u001b[1;33m=\u001b[0m\u001b[1;32mFalse\u001b[0m\u001b[1;33m)\u001b[0m\u001b[1;33m:\u001b[0m\u001b[1;33m\u001b[0m\u001b[0m\n\u001b[1;32m---> 23\u001b[1;33m         \u001b[1;32mreturn\u001b[0m \u001b[0mcodecs\u001b[0m\u001b[1;33m.\u001b[0m\u001b[0mcharmap_decode\u001b[0m\u001b[1;33m(\u001b[0m\u001b[0minput\u001b[0m\u001b[1;33m,\u001b[0m\u001b[0mself\u001b[0m\u001b[1;33m.\u001b[0m\u001b[0merrors\u001b[0m\u001b[1;33m,\u001b[0m\u001b[0mdecoding_table\u001b[0m\u001b[1;33m)\u001b[0m\u001b[1;33m[\u001b[0m\u001b[1;36m0\u001b[0m\u001b[1;33m]\u001b[0m\u001b[1;33m\u001b[0m\u001b[0m\n\u001b[0m\u001b[0;32m     24\u001b[0m \u001b[1;33m\u001b[0m\u001b[0m\n\u001b[0;32m     25\u001b[0m \u001b[1;32mclass\u001b[0m \u001b[0mStreamWriter\u001b[0m\u001b[1;33m(\u001b[0m\u001b[0mCodec\u001b[0m\u001b[1;33m,\u001b[0m\u001b[0mcodecs\u001b[0m\u001b[1;33m.\u001b[0m\u001b[0mStreamWriter\u001b[0m\u001b[1;33m)\u001b[0m\u001b[1;33m:\u001b[0m\u001b[1;33m\u001b[0m\u001b[0m\n",
      "\u001b[1;31mUnicodeDecodeError\u001b[0m: 'charmap' codec can't decode byte 0x98 in position 52942: character maps to <undefined>"
     ]
    }
   ],
   "source": [
    "content = file.read()"
   ]
  },
  {
   "cell_type": "markdown",
   "metadata": {
    "colab_type": "text",
    "id": "weee20xd2d27"
   },
   "source": [
    "Содержимое файла прочитается и запишется в переменную content в виду строки. Давайте выведем первые 10 ее символов:"
   ]
  },
  {
   "cell_type": "code",
   "execution_count": 35,
   "metadata": {
    "colab": {},
    "colab_type": "code",
    "id": "WkKRy4j62d28"
   },
   "outputs": [
    {
     "ename": "NameError",
     "evalue": "name 'content' is not defined",
     "output_type": "error",
     "traceback": [
      "\u001b[1;31m---------------------------------------------------------------------------\u001b[0m",
      "\u001b[1;31mNameError\u001b[0m                                 Traceback (most recent call last)",
      "\u001b[1;32m<ipython-input-35-c6a119aaa36d>\u001b[0m in \u001b[0;36m<module>\u001b[1;34m\u001b[0m\n\u001b[1;32m----> 1\u001b[1;33m \u001b[0mcontent\u001b[0m\u001b[1;33m[\u001b[0m\u001b[1;33m:\u001b[0m\u001b[1;36m10\u001b[0m\u001b[1;33m]\u001b[0m\u001b[1;33m\u001b[0m\u001b[0m\n\u001b[0m",
      "\u001b[1;31mNameError\u001b[0m: name 'content' is not defined"
     ]
    }
   ],
   "source": [
    "content[:10]"
   ]
  },
  {
   "cell_type": "markdown",
   "metadata": {
    "colab_type": "text",
    "id": "L4_SLVFl2d29"
   },
   "source": [
    "Читать файл целиком не целесообразно, если файл большой -- это долго и вы займете слишком много места в оперативной памяти."
   ]
  },
  {
   "cell_type": "markdown",
   "metadata": {
    "colab_type": "text",
    "id": "-68ZUr-k2d2-"
   },
   "source": [
    "Давайте теперь запишем строку \"Hello world!\\n\" в новый файл \"hello.txt\":"
   ]
  },
  {
   "cell_type": "code",
   "execution_count": 36,
   "metadata": {
    "colab": {},
    "colab_type": "code",
    "id": "0dMvTXYx2d2-"
   },
   "outputs": [
    {
     "data": {
      "text/plain": [
       "13"
      ]
     },
     "execution_count": 36,
     "metadata": {},
     "output_type": "execute_result"
    }
   ],
   "source": [
    "file = open(\"hello.txt\", 'w')\n",
    "# метод write возвращает количество записанных символов в файл -- в нашем случае, 13\n",
    "# это нужно, чтобы понимать, все ли записалось, что вы хотели (иногда возникают ошибки записи и пишется не все)\n",
    "file.write('Hello world!\\n')"
   ]
  },
  {
   "cell_type": "markdown",
   "metadata": {
    "colab_type": "text",
    "id": "Tc0sK-MI2d2_"
   },
   "source": [
    "Теперь можно прочитать этот файл:"
   ]
  },
  {
   "cell_type": "code",
   "execution_count": 37,
   "metadata": {
    "colab": {},
    "colab_type": "code",
    "id": "NaMeUMeF2d3A"
   },
   "outputs": [
    {
     "data": {
      "text/plain": [
       "'Hello world!\\n'"
      ]
     },
     "execution_count": 37,
     "metadata": {},
     "output_type": "execute_result"
    }
   ],
   "source": [
    "file = open('hello.txt', 'r')\n",
    "file.read()"
   ]
  },
  {
   "cell_type": "markdown",
   "metadata": {
    "colab_type": "text",
    "id": "8ChR-98q2d3B"
   },
   "source": [
    "-----------------"
   ]
  },
  {
   "cell_type": "markdown",
   "metadata": {
    "colab_type": "text",
    "id": "KrCLYmVs2oqL"
   },
   "source": [
    "### sort"
   ]
  },
  {
   "cell_type": "markdown",
   "metadata": {
    "colab_type": "text",
    "id": "anzGJvwo2wL9"
   },
   "source": [
    "Как и во многих языках программирования, в Python есть встроенные функции поиска максимума, минимума в массиве, сортировки массива и т.д. \n",
    "\n",
    "Сейчас поговорим о сортировке. \n",
    "\n",
    "Отсортировать iterable просто:"
   ]
  },
  {
   "cell_type": "code",
   "execution_count": 40,
   "metadata": {
    "colab": {},
    "colab_type": "code",
    "id": "VioxREsn2uQW"
   },
   "outputs": [
    {
     "name": "stdout",
     "output_type": "stream",
     "text": [
      "[-1, 3, 6, 7, 34, 98]\n",
      "['a', 'abcba', 'bababaa', 'stroka']\n"
     ]
    }
   ],
   "source": [
    "mas1 = [3, 6, 98, 34, -1, 7]\n",
    "mas2 = ['stroka', 'abcba', 'a', 'bababaa']\n",
    "\n",
    "# sorted НЕ изменяет массив, она возвращает отсортированную копию массива\n",
    "# это, в частности, позволяет сортировать tuple (который нельзя изменять)\n",
    "print(sorted(mas1))\n",
    "print(sorted(mas2))"
   ]
  },
  {
   "cell_type": "markdown",
   "metadata": {
    "colab_type": "text",
    "id": "x_KaMm354aBP"
   },
   "source": [
    "При этом, как видно, по умолчанию массив из чисел сортируется по возрастанию, массив строк -- в алфавитном порядке.\n",
    "\n",
    "Что можно сделать, если мы хотим отсортировать массив не так, как его сортирует `sorted` по умолчанию?\n",
    "\n",
    "Оказывается, в sorted можно передать аргумент `key` -- ключ, по которому мы хотим отсортировать наш массив. Рассмотрим пример: пусть у нас есть массив пар (кортежей размера 2) и мы хотим отсортировать его по **второму** элементу кортежа:"
   ]
  },
  {
   "cell_type": "code",
   "execution_count": 41,
   "metadata": {
    "colab": {},
    "colab_type": "code",
    "id": "qe7cOxQm5Bhq"
   },
   "outputs": [],
   "source": [
    "t = [(4, 5), (97, 2), (8, 291), (-1, 67), (98, -10), (8, 34)]"
   ]
  },
  {
   "cell_type": "markdown",
   "metadata": {
    "colab_type": "text",
    "id": "ariklxy95JwF"
   },
   "source": [
    "Если мы просто вызовем sorted, то получим следующее: массив отсортируется по первому элементу кортежей, а если первые элементы двух кортежей равны, то первым будет тот, у которого второй элемент меньше:"
   ]
  },
  {
   "cell_type": "code",
   "execution_count": 42,
   "metadata": {
    "colab": {},
    "colab_type": "code",
    "id": "UxRhdj2L5JEy"
   },
   "outputs": [
    {
     "name": "stdout",
     "output_type": "stream",
     "text": [
      "[(-1, 67), (4, 5), (8, 34), (8, 291), (97, 2), (98, -10)]\n"
     ]
    }
   ],
   "source": [
    "print(sorted(t))"
   ]
  },
  {
   "cell_type": "markdown",
   "metadata": {
    "colab_type": "text",
    "id": "_ARTmNd85Zgf"
   },
   "source": [
    "Но это не то, что мы хотели, мы хотели отсортировать массив по второму элементу кортежей. \n",
    "\n",
    "Вот как это сделать с помощью передачи ключа сортировки в sorted:"
   ]
  },
  {
   "cell_type": "code",
   "execution_count": 43,
   "metadata": {
    "colab": {},
    "colab_type": "code",
    "id": "WBOspLlf5Ytt"
   },
   "outputs": [
    {
     "data": {
      "text/plain": [
       "[(98, -10), (97, 2), (4, 5), (8, 34), (-1, 67), (8, 291)]"
      ]
     },
     "execution_count": 43,
     "metadata": {},
     "output_type": "execute_result"
    }
   ],
   "source": [
    "sorted(t, key=lambda x: x[1])"
   ]
  },
  {
   "cell_type": "markdown",
   "metadata": {
    "colab_type": "text",
    "id": "8R9RUUVt6pGh"
   },
   "source": [
    "В качестве значения `key` нужно передать функцию, которая принимает элемент iterable, который сы сортируем (в нашем случае это tuple) и возвращает значение, по которому будет выполняться сортировка (в нашем случае возвращаемое значение -- x[1] -- первый элемент кортежа)"
   ]
  },
  {
   "cell_type": "markdown",
   "metadata": {
    "colab_type": "text",
    "id": "blYetp6z7Cba"
   },
   "source": [
    "Также у list есть метод `sort`, который выполняет сортировку массива, **изменяя сам массив**:"
   ]
  },
  {
   "cell_type": "code",
   "execution_count": 44,
   "metadata": {
    "colab": {},
    "colab_type": "code",
    "id": "s0184doI6omu"
   },
   "outputs": [
    {
     "data": {
      "text/plain": [
       "[(-1, 67), (4, 5), (8, 34), (8, 291), (97, 2), (98, -10)]"
      ]
     },
     "execution_count": 44,
     "metadata": {},
     "output_type": "execute_result"
    }
   ],
   "source": [
    "t = [(4, 5), (97, 2), (8, 291), (-1, 67), (98, -10), (8, 34)]\n",
    "t.sort()\n",
    "t"
   ]
  },
  {
   "cell_type": "markdown",
   "metadata": {
    "colab_type": "text",
    "id": "DQuGaVmY7Ud1"
   },
   "source": [
    "В .sort() также пожно передавать ключ сортировки."
   ]
  },
  {
   "cell_type": "markdown",
   "metadata": {
    "colab_type": "text",
    "id": "ba4m15HQ2d3C"
   },
   "source": [
    "### модуль collections\n",
    "\n",
    "Collections -- это модуль (библиотека), где реализованы многие полезные функции. Подробнее можно прочитать в документации, а сейчас познакомимся с двумя самыми часто используемыми вещами оттуда."
   ]
  },
  {
   "cell_type": "code",
   "execution_count": 5,
   "metadata": {
    "colab": {},
    "colab_type": "code",
    "id": "SlH7vb7d2d3C"
   },
   "outputs": [],
   "source": [
    "import collections"
   ]
  },
  {
   "cell_type": "markdown",
   "metadata": {
    "colab_type": "text",
    "id": "Hvn6ThiR2d3D"
   },
   "source": [
    "**defaultdict()** - класс словаря, у которого есть значение по умолчанию. По сути, это тот же dict со всеми его функциями и свойствами, но у defaultdict есть значение по умолчанию: в обычном dict, если мы предварительно не положили в него какое-нибудь значение по ключу key, попытка получить значение по ключу key обкрнется ошибкой:"
   ]
  },
  {
   "cell_type": "code",
   "execution_count": 3,
   "metadata": {
    "colab": {},
    "colab_type": "code",
    "id": "vX1ei1FM2d3D"
   },
   "outputs": [
    {
     "ename": "KeyError",
     "evalue": "'key'",
     "output_type": "error",
     "traceback": [
      "\u001b[1;31m---------------------------------------------------------------------------\u001b[0m",
      "\u001b[1;31mKeyError\u001b[0m                                  Traceback (most recent call last)",
      "\u001b[1;32m<ipython-input-3-2694750d3286>\u001b[0m in \u001b[0;36m<module>\u001b[1;34m\u001b[0m\n\u001b[0;32m      1\u001b[0m \u001b[0md\u001b[0m \u001b[1;33m=\u001b[0m \u001b[0mdict\u001b[0m\u001b[1;33m(\u001b[0m\u001b[1;33m)\u001b[0m\u001b[1;33m\u001b[0m\u001b[0m\n\u001b[1;32m----> 2\u001b[1;33m \u001b[0md\u001b[0m\u001b[1;33m[\u001b[0m\u001b[1;34m'key'\u001b[0m\u001b[1;33m]\u001b[0m\u001b[1;33m\u001b[0m\u001b[0m\n\u001b[0m",
      "\u001b[1;31mKeyError\u001b[0m: 'key'"
     ]
    }
   ],
   "source": [
    "d = dict()\n",
    "d['key']"
   ]
  },
  {
   "cell_type": "markdown",
   "metadata": {
    "colab_type": "text",
    "id": "CVCJ6Knk2d3F"
   },
   "source": [
    "в defaultdict при объявлении словаря мы задаем значение, которое будет присваиваться по умолчанию всем ключам, которые мы не клали в словарь руками: "
   ]
  },
  {
   "cell_type": "code",
   "execution_count": 6,
   "metadata": {
    "colab": {},
    "colab_type": "code",
    "id": "epDRfeQl2d3F"
   },
   "outputs": [
    {
     "data": {
      "text/plain": [
       "0"
      ]
     },
     "execution_count": 6,
     "metadata": {},
     "output_type": "execute_result"
    }
   ],
   "source": [
    "defaultd = collections.defaultdict(int) \n",
    "# теперь всем ключам defaultd будет присвиваться значение по умолчанию типа int, т.е. 0\n",
    "\n",
    "defaultd['key']"
   ]
  },
  {
   "cell_type": "markdown",
   "metadata": {
    "colab_type": "text",
    "id": "4zH1CPNq2d3G"
   },
   "source": [
    "Еще примеры defaultdict:"
   ]
  },
  {
   "cell_type": "code",
   "execution_count": 9,
   "metadata": {
    "colab": {},
    "colab_type": "code",
    "id": "ehQwPtSJ2d3G"
   },
   "outputs": [
    {
     "name": "stdout",
     "output_type": "stream",
     "text": [
      "empty\n",
      "full\n"
     ]
    }
   ],
   "source": [
    "d = collections.defaultdict(lambda: 'empty')\n",
    "print(d['key'])\n",
    "\n",
    "d['key'] = 'full'\n",
    "print(d['key'])"
   ]
  },
  {
   "cell_type": "code",
   "execution_count": 12,
   "metadata": {
    "colab": {},
    "colab_type": "code",
    "id": "iF3WUZS_2d3H"
   },
   "outputs": [
    {
     "name": "stdout",
     "output_type": "stream",
     "text": [
      "defaultdict(<class 'list'>, {})\n",
      "defaultdict(<class 'list'>, {'list1': [100, 200]})\n",
      "[100, 200]\n"
     ]
    }
   ],
   "source": [
    "d = collections.defaultdict(list)\n",
    "print(d)\n",
    "\n",
    "d['list1'].append(100)\n",
    "d['list1'].append(200)\n",
    "print(d)\n",
    "print(d['list1'])"
   ]
  },
  {
   "cell_type": "markdown",
   "metadata": {
    "colab_type": "text",
    "id": "eUsb88vg2d3I"
   },
   "source": [
    "**Counter()** -- это defaultdict(int). Вынесен в отдельную сущность, потому что именно этот тип defaultdict чаще всего используется, когда нужен **счетчик** чего-либо. "
   ]
  },
  {
   "cell_type": "code",
   "execution_count": 13,
   "metadata": {
    "colab": {},
    "colab_type": "code",
    "id": "q9x_2Zow2d3I"
   },
   "outputs": [
    {
     "name": "stdout",
     "output_type": "stream",
     "text": [
      "Counter({'e': 4, 'o': 3, 't': 2, 'r': 2, 'f': 2, 'n': 1, 'w': 1, 'h': 1, 'u': 1, 'i': 1, 'v': 1})\n"
     ]
    }
   ],
   "source": [
    "counter = collections.Counter()\n",
    "\n",
    "for word in [\"one\", \"two\", \"three\", \"four\", \"five\"]:\n",
    "    for letter in word:\n",
    "        counter[letter] += 1  # или .update(value)\n",
    "    \n",
    "print(counter)"
   ]
  },
  {
   "cell_type": "markdown",
   "metadata": {
    "colab_type": "text",
    "id": "4EVeUCtI2d3J"
   },
   "source": [
    "### Задание 5\n",
    "\n",
    "1. Создайте словарь счётчиков\n",
    "\n",
    "2. Создайте переменную, в которую сохраните все пути к нужным текстовым файлам (расположены по адресу './20_newsgroups/sci.space/', папка лежит в гугл-доке)\n",
    "3. Для каждого текста (текстового файла) посчитайте сколько каждое слово (из этого текста) встретилось в этом тексте (используйте предыдущие пункты)"
   ]
  },
  {
   "cell_type": "code",
   "execution_count": 42,
   "metadata": {
    "colab": {},
    "colab_type": "code",
    "id": "7Az7jtUa2d3J"
   },
   "outputs": [
    {
     "name": "stdout",
     "output_type": "stream",
     "text": [
      "['./20_newsgroups/sci.space/file1.txt', './20_newsgroups/sci.space/file2.txt', './20_newsgroups/sci.space/file3.txt', './20_newsgroups/sci.space/file4.txt', './20_newsgroups/sci.space/file5.txt']\n",
      "defaultdict(<class 'collections.Counter'>, {})\n"
     ]
    }
   ],
   "source": [
    "# your code here\n",
    "from os import listdir\n",
    "from os.path import isfile, join\n",
    "mypath = './20_newsgroups/sci.space/'\n",
    "file_paths = [join(mypath, f) for f in listdir(mypath) if isfile(join(mypath, f))]\n",
    "print(onlyfiles)\n",
    "\n",
    "defaultd = collections.defaultdict(collections.Counter)\n",
    "print(defaultd)"
   ]
  },
  {
   "cell_type": "code",
   "execution_count": 43,
   "metadata": {},
   "outputs": [
    {
     "name": "stdout",
     "output_type": "stream",
     "text": [
      "defaultdict(<class 'collections.Counter'>,\n",
      "            {'./20_newsgroups/sci.space/file1.txt': Counter({'of': 5,\n",
      "                                                             'is': 4,\n",
      "                                                             'to': 3,\n",
      "                                                             'a': 3,\n",
      "                                                             'the': 2,\n",
      "                                                             'boundless': 2,\n",
      "                                                             'in': 2,\n",
      "                                                             'and': 2,\n",
      "                                                             'space': 2,\n",
      "                                                             'be': 2,\n",
      "                                                             'part': 2,\n",
      "                                                             'an': 2,\n",
      "                                                             'between': 2,\n",
      "                                                             'Space': 1,\n",
      "                                                             'three-dimensional': 1,\n",
      "                                                             'extent': 1,\n",
      "                                                             'which': 1,\n",
      "                                                             'objects': 1,\n",
      "                                                             'events': 1,\n",
      "                                                             'have': 1,\n",
      "                                                             'relative': 1,\n",
      "                                                             'position': 1,\n",
      "                                                             'direction.[1]': 1,\n",
      "                                                             'Physical': 1,\n",
      "                                                             'often': 1,\n",
      "                                                             'conceived': 1,\n",
      "                                                             'three': 1,\n",
      "                                                             'linear': 1,\n",
      "                                                             'dimensions,': 1,\n",
      "                                                             'although': 1,\n",
      "                                                             'modern': 1,\n",
      "                                                             'physicists': 1,\n",
      "                                                             'usually': 1,\n",
      "                                                             'consider': 1,\n",
      "                                                             'it,': 1,\n",
      "                                                             'with': 1,\n",
      "                                                             'time,': 1,\n",
      "                                                             'four-dimensional': 1,\n",
      "                                                             'continuum': 1,\n",
      "                                                             'known': 1,\n",
      "                                                             'as': 1,\n",
      "                                                             'spacetime.': 1,\n",
      "                                                             'The': 1,\n",
      "                                                             'concept': 1,\n",
      "                                                             'considered': 1,\n",
      "                                                             'fundamental': 1,\n",
      "                                                             'importance': 1,\n",
      "                                                             'understanding': 1,\n",
      "                                                             'physical': 1,\n",
      "                                                             'universe.': 1,\n",
      "                                                             'However,': 1,\n",
      "                                                             'disagreement': 1,\n",
      "                                                             'continues': 1,\n",
      "                                                             'philosophers': 1,\n",
      "                                                             'over': 1,\n",
      "                                                             'whether': 1,\n",
      "                                                             'it': 1,\n",
      "                                                             'itself': 1,\n",
      "                                                             'entity,': 1,\n",
      "                                                             'relationship': 1,\n",
      "                                                             'entities,': 1,\n",
      "                                                             'or': 1,\n",
      "                                                             'conceptual': 1,\n",
      "                                                             'framework.': 1}),\n",
      "             './20_newsgroups/sci.space/file2.txt': Counter({'the': 21,\n",
      "                                                             'of': 19,\n",
      "                                                             'in': 11,\n",
      "                                                             'and': 7,\n",
      "                                                             'to': 5,\n",
      "                                                             'space': 4,\n",
      "                                                             'that': 4,\n",
      "                                                             'a': 4,\n",
      "                                                             'or': 3,\n",
      "                                                             'his': 3,\n",
      "                                                             'was': 3,\n",
      "                                                             'on': 2,\n",
      "                                                             '(i.e.': 2,\n",
      "                                                             'as': 2,\n",
      "                                                             'classical': 2,\n",
      "                                                             'century,': 2,\n",
      "                                                             'In': 2,\n",
      "                                                             'given': 2,\n",
      "                                                             'from': 2,\n",
      "                                                             'Kant': 2,\n",
      "                                                             'are': 2,\n",
      "                                                             'Debates': 1,\n",
      "                                                             'concerning': 1,\n",
      "                                                             'nature,': 1,\n",
      "                                                             'essence': 1,\n",
      "                                                             'mode': 1,\n",
      "                                                             'existence': 1,\n",
      "                                                             'date': 1,\n",
      "                                                             'back': 1,\n",
      "                                                             'antiquity;': 1,\n",
      "                                                             'namely,': 1,\n",
      "                                                             'treatises': 1,\n",
      "                                                             'like': 1,\n",
      "                                                             'Timaeus': 1,\n",
      "                                                             'Plato,': 1,\n",
      "                                                             'Socrates': 1,\n",
      "                                                             'reflections': 1,\n",
      "                                                             'what': 1,\n",
      "                                                             'Greeks': 1,\n",
      "                                                             'called': 1,\n",
      "                                                             'kh?ra': 1,\n",
      "                                                             '\"space\"),': 1,\n",
      "                                                             'Physics': 1,\n",
      "                                                             'Aristotle': 1,\n",
      "                                                             '(Book': 1,\n",
      "                                                             'IV,': 1,\n",
      "                                                             'Delta)': 1,\n",
      "                                                             'definition': 1,\n",
      "                                                             'topos': 1,\n",
      "                                                             'place),': 1,\n",
      "                                                             'later': 1,\n",
      "                                                             '\"geometrical': 1,\n",
      "                                                             'conception': 1,\n",
      "                                                             'place\"': 1,\n",
      "                                                             '\"space': 1,\n",
      "                                                             'qua': 1,\n",
      "                                                             'extension\"': 1,\n",
      "                                                             'Discourse': 1,\n",
      "                                                             'Place': 1,\n",
      "                                                             '(Qawl': 1,\n",
      "                                                             'fi': 1,\n",
      "                                                             'al-Makan)': 1,\n",
      "                                                             '11th-century': 1,\n",
      "                                                             'Arab': 1,\n",
      "                                                             'polymath': 1,\n",
      "                                                             'Alhazen.[2]': 1,\n",
      "                                                             'Many': 1,\n",
      "                                                             'these': 1,\n",
      "                                                             'philosophical': 1,\n",
      "                                                             'questions': 1,\n",
      "                                                             'were': 1,\n",
      "                                                             'discussed': 1,\n",
      "                                                             'Renaissance': 1,\n",
      "                                                             'then': 1,\n",
      "                                                             'reformulated': 1,\n",
      "                                                             '17th': 1,\n",
      "                                                             'particularly': 1,\n",
      "                                                             'during': 1,\n",
      "                                                             'early': 1,\n",
      "                                                             'development': 1,\n",
      "                                                             'mechanics.': 1,\n",
      "                                                             'Isaac': 1,\n",
      "                                                             \"Newton's\": 1,\n",
      "                                                             'view,': 1,\n",
      "                                                             'absolute—in': 1,\n",
      "                                                             'sense': 1,\n",
      "                                                             'it': 1,\n",
      "                                                             'existed': 1,\n",
      "                                                             'permanently': 1,\n",
      "                                                             'independently': 1,\n",
      "                                                             'whether': 1,\n",
      "                                                             'there': 1,\n",
      "                                                             'any': 1,\n",
      "                                                             'matter': 1,\n",
      "                                                             'space.[3]': 1,\n",
      "                                                             'Other': 1,\n",
      "                                                             'natural': 1,\n",
      "                                                             'philosophers,': 1,\n",
      "                                                             'notably': 1,\n",
      "                                                             'Gottfried': 1,\n",
      "                                                             'Leibniz,': 1,\n",
      "                                                             'thought': 1,\n",
      "                                                             'instead': 1,\n",
      "                                                             'fact': 1,\n",
      "                                                             'collection': 1,\n",
      "                                                             'relations': 1,\n",
      "                                                             'between': 1,\n",
      "                                                             'objects,': 1,\n",
      "                                                             'by': 1,\n",
      "                                                             'their': 1,\n",
      "                                                             'distance': 1,\n",
      "                                                             'direction': 1,\n",
      "                                                             'one': 1,\n",
      "                                                             'another.': 1,\n",
      "                                                             '18th': 1,\n",
      "                                                             'philosopher': 1,\n",
      "                                                             'theologian': 1,\n",
      "                                                             'George': 1,\n",
      "                                                             'Berkeley': 1,\n",
      "                                                             'attempted': 1,\n",
      "                                                             'refute': 1,\n",
      "                                                             '\"visibility': 1,\n",
      "                                                             'spatial': 1,\n",
      "                                                             'depth\"': 1,\n",
      "                                                             'Essay': 1,\n",
      "                                                             'Towards': 1,\n",
      "                                                             'New': 1,\n",
      "                                                             'Theory': 1,\n",
      "                                                             'Vision.': 1,\n",
      "                                                             'Later,': 1,\n",
      "                                                             'metaphysician': 1,\n",
      "                                                             'Immanuel': 1,\n",
      "                                                             'said': 1,\n",
      "                                                             'concepts': 1,\n",
      "                                                             'time': 1,\n",
      "                                                             'not': 1,\n",
      "                                                             'empirical': 1,\n",
      "                                                             'ones': 1,\n",
      "                                                             'derived': 1,\n",
      "                                                             'experiences': 1,\n",
      "                                                             'outside': 1,\n",
      "                                                             'world—they': 1,\n",
      "                                                             'elements': 1,\n",
      "                                                             'an': 1,\n",
      "                                                             'already': 1,\n",
      "                                                             'systematic': 1,\n",
      "                                                             'framework': 1,\n",
      "                                                             'humans': 1,\n",
      "                                                             'possess': 1,\n",
      "                                                             'use': 1,\n",
      "                                                             'structure': 1,\n",
      "                                                             'all': 1,\n",
      "                                                             'experiences.': 1,\n",
      "                                                             'referred': 1,\n",
      "                                                             'experience': 1,\n",
      "                                                             '\"space\"': 1,\n",
      "                                                             'Critique': 1,\n",
      "                                                             'Pure': 1,\n",
      "                                                             'Reason': 1,\n",
      "                                                             'being': 1,\n",
      "                                                             'subjective': 1,\n",
      "                                                             '\"pure': 1,\n",
      "                                                             'priori': 1,\n",
      "                                                             'form': 1,\n",
      "                                                             'intuition\".': 1}),\n",
      "             './20_newsgroups/sci.space/file3.txt': Counter({'the': 16,\n",
      "                                                             'of': 11,\n",
      "                                                             'that': 8,\n",
      "                                                             'in': 7,\n",
      "                                                             'be': 7,\n",
      "                                                             'space': 6,\n",
      "                                                             'and': 6,\n",
      "                                                             'relations': 5,\n",
      "                                                             'between': 5,\n",
      "                                                             'could': 5,\n",
      "                                                             'to': 4,\n",
      "                                                             'a': 3,\n",
      "                                                             'two': 3,\n",
      "                                                             'independently': 3,\n",
      "                                                             'no': 3,\n",
      "                                                             'objects': 3,\n",
      "                                                             'not': 3,\n",
      "                                                             'universes': 3,\n",
      "                                                             'there': 3,\n",
      "                                                             'Leibniz,': 2,\n",
      "                                                             'than': 2,\n",
      "                                                             'an': 2,\n",
      "                                                             'other': 2,\n",
      "                                                             'Leibniz': 2,\n",
      "                                                             'is': 2,\n",
      "                                                             'spatial': 2,\n",
      "                                                             'from': 2,\n",
      "                                                             'are': 2,\n",
      "                                                             'then,': 2,\n",
      "                                                             'possible': 2,\n",
      "                                                             'therefore': 2,\n",
      "                                                             'must': 2,\n",
      "                                                             'way': 2,\n",
      "                                                             'family': 2,\n",
      "                                                             'exist': 2,\n",
      "                                                             'world': 2,\n",
      "                                                             'difference': 2,\n",
      "                                                             'would': 2,\n",
      "                                                             'these': 2,\n",
      "                                                             'In': 1,\n",
      "                                                             'seventeenth': 1,\n",
      "                                                             'century,': 1,\n",
      "                                                             'philosophy': 1,\n",
      "                                                             'time': 1,\n",
      "                                                             'emerged': 1,\n",
      "                                                             'as': 1,\n",
      "                                                             'central': 1,\n",
      "                                                             'issue': 1,\n",
      "                                                             'epistemology': 1,\n",
      "                                                             'metaphysics.': 1,\n",
      "                                                             'At': 1,\n",
      "                                                             'its': 1,\n",
      "                                                             'heart,': 1,\n",
      "                                                             'Gottfried': 1,\n",
      "                                                             'German': 1,\n",
      "                                                             'philosopher-mathematician,': 1,\n",
      "                                                             'Isaac': 1,\n",
      "                                                             'Newton,': 1,\n",
      "                                                             'English': 1,\n",
      "                                                             'physicist-mathematician,': 1,\n",
      "                                                             'set': 1,\n",
      "                                                             'out': 1,\n",
      "                                                             'opposing': 1,\n",
      "                                                             'theories': 1,\n",
      "                                                             'what': 1,\n",
      "                                                             'is.': 1,\n",
      "                                                             'Rather': 1,\n",
      "                                                             'being': 1,\n",
      "                                                             'entity': 1,\n",
      "                                                             'exists': 1,\n",
      "                                                             'over': 1,\n",
      "                                                             'above': 1,\n",
      "                                                             'matter,': 1,\n",
      "                                                             'held': 1,\n",
      "                                                             'more': 1,\n",
      "                                                             'collection': 1,\n",
      "                                                             'world:': 1,\n",
      "                                                             '\"space': 1,\n",
      "                                                             'which': 1,\n",
      "                                                             'results': 1,\n",
      "                                                             'places': 1,\n",
      "                                                             'taken': 1,\n",
      "                                                             'together\".[5]': 1,\n",
      "                                                             'Unoccupied': 1,\n",
      "                                                             'regions': 1,\n",
      "                                                             'those': 1,\n",
      "                                                             'have': 1,\n",
      "                                                             'them,': 1,\n",
      "                                                             'thus': 1,\n",
      "                                                             'with': 1,\n",
      "                                                             'places.': 1,\n",
      "                                                             'For': 1,\n",
      "                                                             'was': 1,\n",
      "                                                             'idealised': 1,\n",
      "                                                             'abstraction': 1,\n",
      "                                                             'individual': 1,\n",
      "                                                             'entities': 1,\n",
      "                                                             'or': 1,\n",
      "                                                             'their': 1,\n",
      "                                                             'locations': 1,\n",
      "                                                             'continuous': 1,\n",
      "                                                             'but': 1,\n",
      "                                                             'discrete.[6]': 1,\n",
      "                                                             'Space': 1,\n",
      "                                                             'thought': 1,\n",
      "                                                             'similar': 1,\n",
      "                                                             'members.': 1,\n",
      "                                                             'Although': 1,\n",
      "                                                             'people': 1,\n",
      "                                                             'related': 1,\n",
      "                                                             'one': 1,\n",
      "                                                             'another,': 1,\n",
      "                                                             'do': 1,\n",
      "                                                             'people.[7]': 1,\n",
      "                                                             'argued': 1,\n",
      "                                                             'because': 1,\n",
      "                                                             'implies': 1,\n",
      "                                                             'exactly': 1,\n",
      "                                                             'alike': 1,\n",
      "                                                             'except': 1,\n",
      "                                                             'for': 1,\n",
      "                                                             'location': 1,\n",
      "                                                             'material': 1,\n",
      "                                                             'each': 1,\n",
      "                                                             'universe.': 1,\n",
      "                                                             'But': 1,\n",
      "                                                             'since': 1,\n",
      "                                                             'observational': 1,\n",
      "                                                             'telling': 1,\n",
      "                                                             'apart': 1,\n",
      "                                                             'according': 1,\n",
      "                                                             'identity': 1,\n",
      "                                                             'indiscernibles,': 1,\n",
      "                                                             'real': 1,\n",
      "                                                             'them.': 1,\n",
      "                                                             'According': 1,\n",
      "                                                             'principle': 1,\n",
      "                                                             'sufficient': 1,\n",
      "                                                             'reason,': 1,\n",
      "                                                             'any': 1,\n",
      "                                                             'theory': 1,\n",
      "                                                             'implied': 1,\n",
      "                                                             'wrong.[8]': 1}),\n",
      "             './20_newsgroups/sci.space/file4.txt': Counter({'the': 13,\n",
      "                                                             'to': 7,\n",
      "                                                             'a': 7,\n",
      "                                                             'and': 6,\n",
      "                                                             'of': 6,\n",
      "                                                             'in': 5,\n",
      "                                                             'bucket': 5,\n",
      "                                                             'be': 4,\n",
      "                                                             'Newton': 3,\n",
      "                                                             'space': 3,\n",
      "                                                             'between': 3,\n",
      "                                                             'with': 3,\n",
      "                                                             'non-inertial': 3,\n",
      "                                                             'relative': 3,\n",
      "                                                             'motion': 3,\n",
      "                                                             'it': 3,\n",
      "                                                             'must': 3,\n",
      "                                                             'water': 3,\n",
      "                                                             'is': 3,\n",
      "                                                             'surface': 3,\n",
      "                                                             'objects': 2,\n",
      "                                                             'his': 2,\n",
      "                                                             'For': 2,\n",
      "                                                             'motion,': 2,\n",
      "                                                             'which': 2,\n",
      "                                                             'since': 2,\n",
      "                                                             'that': 2,\n",
      "                                                             'spinning': 2,\n",
      "                                                             'spin,': 2,\n",
      "                                                             'as': 2,\n",
      "                                                             'continues': 2,\n",
      "                                                             'concave': 2,\n",
      "                                                             'result': 2,\n",
      "                                                             'took': 1,\n",
      "                                                             'more': 1,\n",
      "                                                             'than': 1,\n",
      "                                                             'relations': 1,\n",
      "                                                             'material': 1,\n",
      "                                                             'based': 1,\n",
      "                                                             'position': 1,\n",
      "                                                             'on': 1,\n",
      "                                                             'observation': 1,\n",
      "                                                             'experimentation.': 1,\n",
      "                                                             'relationist': 1,\n",
      "                                                             'there': 1,\n",
      "                                                             'can': 1,\n",
      "                                                             'no': 1,\n",
      "                                                             'real': 1,\n",
      "                                                             'difference': 1,\n",
      "                                                             'inertial': 1,\n",
      "                                                             'object': 1,\n",
      "                                                             'travels': 1,\n",
      "                                                             'constant': 1,\n",
      "                                                             'velocity,': 1,\n",
      "                                                             'velocity': 1,\n",
      "                                                             'changes': 1,\n",
      "                                                             'time,': 1,\n",
      "                                                             'all': 1,\n",
      "                                                             'spatial': 1,\n",
      "                                                             'measurements': 1,\n",
      "                                                             'are': 1,\n",
      "                                                             'other': 1,\n",
      "                                                             'their': 1,\n",
      "                                                             'motions.': 1,\n",
      "                                                             'But': 1,\n",
      "                                                             'argued': 1,\n",
      "                                                             'generates': 1,\n",
      "                                                             'forces,': 1,\n",
      "                                                             'absolute.[9]': 1,\n",
      "                                                             'He': 1,\n",
      "                                                             'used': 1,\n",
      "                                                             'example': 1,\n",
      "                                                             'demonstrate': 1,\n",
      "                                                             'argument.': 1,\n",
      "                                                             'Water': 1,\n",
      "                                                             'hung': 1,\n",
      "                                                             'from': 1,\n",
      "                                                             'rope': 1,\n",
      "                                                             'set': 1,\n",
      "                                                             'starts': 1,\n",
      "                                                             'flat': 1,\n",
      "                                                             'surface.': 1,\n",
      "                                                             'After': 1,\n",
      "                                                             'while,': 1,\n",
      "                                                             'becomes': 1,\n",
      "                                                             'concave.': 1,\n",
      "                                                             'If': 1,\n",
      "                                                             \"bucket's\": 1,\n",
      "                                                             'stopped': 1,\n",
      "                                                             'then': 1,\n",
      "                                                             'remains': 1,\n",
      "                                                             'spin.': 1,\n",
      "                                                             'The': 1,\n",
      "                                                             'therefore': 1,\n",
      "                                                             'apparently': 1,\n",
      "                                                             'not': 1,\n",
      "                                                             'water.[10]Instead,': 1,\n",
      "                                                             'argued,': 1,\n",
      "                                                             'itself.': 1,\n",
      "                                                             'several': 1,\n",
      "                                                             'centuries': 1,\n",
      "                                                             'argument': 1,\n",
      "                                                             'was': 1,\n",
      "                                                             'considered': 1,\n",
      "                                                             'decisive': 1,\n",
      "                                                             'showing': 1,\n",
      "                                                             'exist': 1,\n",
      "                                                             'independently': 1,\n",
      "                                                             'matter.': 1}),\n",
      "             './20_newsgroups/sci.space/file5.txt': Counter({'the': 8,\n",
      "                                                             'of': 5,\n",
      "                                                             'space': 5,\n",
      "                                                             'a': 4,\n",
      "                                                             'knowledge': 3,\n",
      "                                                             'in': 3,\n",
      "                                                             'about': 3,\n",
      "                                                             'be': 3,\n",
      "                                                             'to': 3,\n",
      "                                                             'that': 3,\n",
      "                                                             'by': 3,\n",
      "                                                             'In': 2,\n",
      "                                                             'Kant': 2,\n",
      "                                                             'and': 2,\n",
      "                                                             'are': 2,\n",
      "                                                             'not': 2,\n",
      "                                                             'eighteenth': 1,\n",
      "                                                             'century': 1,\n",
      "                                                             'German': 1,\n",
      "                                                             'philosopher': 1,\n",
      "                                                             'Immanuel': 1,\n",
      "                                                             'developed': 1,\n",
      "                                                             'theory': 1,\n",
      "                                                             'which': 1,\n",
      "                                                             'can': 1,\n",
      "                                                             'both': 1,\n",
      "                                                             'priori': 1,\n",
      "                                                             'synthetic.': 1,\n",
      "                                                             'According': 1,\n",
      "                                                             'Kant,': 1,\n",
      "                                                             'is': 1,\n",
      "                                                             'synthetic,': 1,\n",
      "                                                             'statements': 1,\n",
      "                                                             'simply': 1,\n",
      "                                                             'true': 1,\n",
      "                                                             'virtue': 1,\n",
      "                                                             'meaning': 1,\n",
      "                                                             'words': 1,\n",
      "                                                             'statement.': 1,\n",
      "                                                             'his': 1,\n",
      "                                                             'work,': 1,\n",
      "                                                             'rejected': 1,\n",
      "                                                             'view': 1,\n",
      "                                                             'must': 1,\n",
      "                                                             'either': 1,\n",
      "                                                             'substance': 1,\n",
      "                                                             'or': 1,\n",
      "                                                             'relation.': 1,\n",
      "                                                             'Instead': 1,\n",
      "                                                             'he': 1,\n",
      "                                                             'came': 1,\n",
      "                                                             'conclusion': 1,\n",
      "                                                             'time': 1,\n",
      "                                                             'discovered': 1,\n",
      "                                                             'humans': 1,\n",
      "                                                             'objective': 1,\n",
      "                                                             'features': 1,\n",
      "                                                             'world,': 1,\n",
      "                                                             'but': 1,\n",
      "                                                             'imposed': 1,\n",
      "                                                             'us': 1,\n",
      "                                                             'as': 1,\n",
      "                                                             'part': 1,\n",
      "                                                             'framework': 1,\n",
      "                                                             'for': 1,\n",
      "                                                             'organizing': 1,\n",
      "                                                             'experience.': 1})})\n"
     ]
    }
   ],
   "source": [
    "for f in file_paths:\n",
    "    text = open(f, 'r').read()\n",
    "    for w in text.split():\n",
    "        defaultd[f][w] += 1\n",
    "from pprint import pprint\n",
    "pprint(defaultd)"
   ]
  },
  {
   "cell_type": "markdown",
   "metadata": {
    "colab_type": "text",
    "id": "J8MWVZOW2d3L"
   },
   "source": [
    "-------------"
   ]
  },
  {
   "cell_type": "markdown",
   "metadata": {
    "colab_type": "text",
    "id": "sNRgMcED2d3L"
   },
   "source": [
    "### tqdm"
   ]
  },
  {
   "cell_type": "markdown",
   "metadata": {
    "colab_type": "text",
    "id": "nQn1_T4K2d3M"
   },
   "source": [
    "Удобный виджет для jupyter notebook, который позволяет отслеживать выполнение циклов"
   ]
  },
  {
   "cell_type": "markdown",
   "metadata": {
    "colab_type": "text",
    "id": "Jn4gCHDh2d3M"
   },
   "source": [
    "Установка:\n",
    "    \n",
    "1. Устанавливаем виджеты:\n",
    "\n",
    "    pip install ipywidgets\n",
    "    (или conda install -c conda-forge ipywidgets)\n",
    "\n",
    "2. Разрешаем их использование в Jupyter Notebook:\n",
    "\n",
    "    jupyter nbextension enable --py --sys-prefix widgetsnbextension\n",
    "\n",
    "3. Перезагружаем ядро (Restart Kernel)\n",
    "\n",
    "4. Устанавливаем tqdm:\n",
    "\n",
    "    pip install tqdm\n",
    "    (или conda install -c conda-forge tqdm)\n",
    "\n",
    "\n",
    "Больше про tqdm: https://pypi.python.org/pypi/tqdm"
   ]
  },
  {
   "cell_type": "code",
   "execution_count": 1,
   "metadata": {
    "colab": {},
    "colab_type": "code",
    "id": "ZU4bShoB2d3M"
   },
   "outputs": [],
   "source": [
    "from tqdm import tqdm\n",
    "from tqdm import tnrange, tqdm_notebook\n",
    "from time import sleep"
   ]
  },
  {
   "cell_type": "code",
   "execution_count": 2,
   "metadata": {
    "colab": {},
    "colab_type": "code",
    "id": "U3y7GtP32d3O"
   },
   "outputs": [
    {
     "name": "stderr",
     "output_type": "stream",
     "text": [
      "100%|██████████████████████████████████████████████████████████████████████████████| 1000/1000 [00:10<00:00, 99.23it/s]\n"
     ]
    }
   ],
   "source": [
    "# запустите ячейку, чтобы увидеть tqdm в действии\n",
    "cnt = 0\n",
    "for i in tqdm(range(1000)):\n",
    "    sleep(0.01)\n",
    "    cnt += 1"
   ]
  },
  {
   "cell_type": "code",
   "execution_count": 6,
   "metadata": {
    "colab": {},
    "colab_type": "code",
    "id": "gsEpE4Z32d3O"
   },
   "outputs": [
    {
     "data": {
      "application/vnd.jupyter.widget-view+json": {
       "model_id": "e50cab1013fb4d8595e5007220333d81",
       "version_major": 2,
       "version_minor": 0
      },
      "text/plain": [
       "HBox(children=(IntProgress(value=0, description='1st loop', max=10, style=ProgressStyle(description_width='ini…"
      ]
     },
     "metadata": {},
     "output_type": "display_data"
    },
    {
     "data": {
      "application/vnd.jupyter.widget-view+json": {
       "model_id": "",
       "version_major": 2,
       "version_minor": 0
      },
      "text/plain": [
       "HBox(children=(IntProgress(value=0, description='2nd loop', style=ProgressStyle(description_width='initial')),…"
      ]
     },
     "metadata": {},
     "output_type": "display_data"
    },
    {
     "data": {
      "application/vnd.jupyter.widget-view+json": {
       "model_id": "",
       "version_major": 2,
       "version_minor": 0
      },
      "text/plain": [
       "HBox(children=(IntProgress(value=0, description='2nd loop', style=ProgressStyle(description_width='initial')),…"
      ]
     },
     "metadata": {},
     "output_type": "display_data"
    },
    {
     "data": {
      "application/vnd.jupyter.widget-view+json": {
       "model_id": "",
       "version_major": 2,
       "version_minor": 0
      },
      "text/plain": [
       "HBox(children=(IntProgress(value=0, description='2nd loop', style=ProgressStyle(description_width='initial')),…"
      ]
     },
     "metadata": {},
     "output_type": "display_data"
    },
    {
     "data": {
      "application/vnd.jupyter.widget-view+json": {
       "model_id": "",
       "version_major": 2,
       "version_minor": 0
      },
      "text/plain": [
       "HBox(children=(IntProgress(value=0, description='2nd loop', style=ProgressStyle(description_width='initial')),…"
      ]
     },
     "metadata": {},
     "output_type": "display_data"
    },
    {
     "data": {
      "application/vnd.jupyter.widget-view+json": {
       "model_id": "",
       "version_major": 2,
       "version_minor": 0
      },
      "text/plain": [
       "HBox(children=(IntProgress(value=0, description='2nd loop', style=ProgressStyle(description_width='initial')),…"
      ]
     },
     "metadata": {},
     "output_type": "display_data"
    },
    {
     "data": {
      "application/vnd.jupyter.widget-view+json": {
       "model_id": "",
       "version_major": 2,
       "version_minor": 0
      },
      "text/plain": [
       "HBox(children=(IntProgress(value=0, description='2nd loop', style=ProgressStyle(description_width='initial')),…"
      ]
     },
     "metadata": {},
     "output_type": "display_data"
    },
    {
     "data": {
      "application/vnd.jupyter.widget-view+json": {
       "model_id": "",
       "version_major": 2,
       "version_minor": 0
      },
      "text/plain": [
       "HBox(children=(IntProgress(value=0, description='2nd loop', style=ProgressStyle(description_width='initial')),…"
      ]
     },
     "metadata": {},
     "output_type": "display_data"
    },
    {
     "data": {
      "application/vnd.jupyter.widget-view+json": {
       "model_id": "",
       "version_major": 2,
       "version_minor": 0
      },
      "text/plain": [
       "HBox(children=(IntProgress(value=0, description='2nd loop', style=ProgressStyle(description_width='initial')),…"
      ]
     },
     "metadata": {},
     "output_type": "display_data"
    },
    {
     "data": {
      "application/vnd.jupyter.widget-view+json": {
       "model_id": "",
       "version_major": 2,
       "version_minor": 0
      },
      "text/plain": [
       "HBox(children=(IntProgress(value=0, description='2nd loop', style=ProgressStyle(description_width='initial')),…"
      ]
     },
     "metadata": {},
     "output_type": "display_data"
    },
    {
     "data": {
      "application/vnd.jupyter.widget-view+json": {
       "model_id": "",
       "version_major": 2,
       "version_minor": 0
      },
      "text/plain": [
       "HBox(children=(IntProgress(value=0, description='2nd loop', style=ProgressStyle(description_width='initial')),…"
      ]
     },
     "metadata": {},
     "output_type": "display_data"
    },
    {
     "name": "stdout",
     "output_type": "stream",
     "text": [
      "\n"
     ]
    }
   ],
   "source": [
    "# запустите ячейку, чтобы увидеть tqdm в действии\n",
    "for i in tnrange(10, desc='1st loop'):\n",
    "    for j in tqdm_notebook(range(100), desc='2nd loop', leave=False):\n",
    "        sleep(0.01)"
   ]
  }
 ],
 "metadata": {
  "colab": {
   "collapsed_sections": [
    "s6H55PRg2d1p",
    "6gAv4fNm2d2B",
    "N6Ns0rB52d2F",
    "ZaJTlEtC2d2Y",
    "AEP_z6nS8uzF",
    "VyZMMeIr2d2e",
    "XXPAkPSd2d2u",
    "cglQ6JNB2d2v",
    "jxfw8Oia2d2y",
    "KrCLYmVs2oqL",
    "ba4m15HQ2d3C",
    "4EVeUCtI2d3J",
    "sNRgMcED2d3L"
   ],
   "name": "python_extension.ipynb",
   "provenance": [],
   "version": "0.3.2"
  },
  "kernelspec": {
   "display_name": "Python 3",
   "language": "python",
   "name": "python3"
  },
  "language_info": {
   "codemirror_mode": {
    "name": "ipython",
    "version": 3
   },
   "file_extension": ".py",
   "mimetype": "text/x-python",
   "name": "python",
   "nbconvert_exporter": "python",
   "pygments_lexer": "ipython3",
   "version": "3.6.5"
  }
 },
 "nbformat": 4,
 "nbformat_minor": 1
}
