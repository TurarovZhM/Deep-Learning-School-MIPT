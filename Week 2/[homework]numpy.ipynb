<<<<<<< HEAD
{"nbformat":4,"nbformat_minor":0,"metadata":{"colab":{"name":"[homework]numpy.ipynb","version":"0.3.2","provenance":[],"collapsed_sections":[]},"kernelspec":{"display_name":"Python [conda env:anaconda3]","language":"python","name":"conda-env-anaconda3-py"}},"cells":[{"metadata":{"id":"9zWJc5rl9kVh","colab_type":"text"},"cell_type":"markdown","source":["# Домашнее задание 2: библиотека Numpy и линейная алгебра\n"]},{"metadata":{"id":"nq2vjOfwWLwF","colab_type":"text"},"cell_type":"markdown","source":["Импортируем библиотеки:"]},{"metadata":{"id":"R0mDEfRJ9kVi","colab_type":"code","colab":{}},"cell_type":"code","source":["import numpy as np\n","import matplotlib.pyplot as plt\n","import scipy.stats as sps\n","\n","from scipy import misc \n","\n","%matplotlib inline"],"execution_count":0,"outputs":[]},{"metadata":{"id":"8t9loOAc9kVm","colab_type":"text"},"cell_type":"markdown","source":["*Вопросы для самопроверки:*\n","1. Что такое NumPy?\n","2. Зачем используется и почему работает быстрее?\n","3. Что такое линейная алгебра?\n","4. Как она связана с машинным обучением и глубоким обучением?"]},{"metadata":{"id":"ZexBy7Kb9kVm","colab_type":"text"},"cell_type":"markdown","source":["### Задание 1"]},{"metadata":{"id":"QuJhYgJU9kVn","colab_type":"text"},"cell_type":"markdown","source":["В первой задаче вам предлагается перемножить две квадратные матрицы двумя способами -- без использования пакета numpy и с ним."]},{"metadata":{"id":"506uaq1E9kVn","colab_type":"code","colab":{}},"cell_type":"code","source":["# Для генерации матриц используем фукнцию random -- она используется для генерации случайных объектов \n","# функция sample создает случайную выборку. В качестве аргумента ей передается кортеж (i,j), здесь i -- число строк,\n","# j -- число столбцов.\n","a = np.random.sample((10,10))\n","b = np.random.sample((10,10))\n","# выведите размерность (ранг) каждой матрицы с помощью функции ndim.\n","# Используйте функцию shape, что она вывела?\n","# ========\n","# тут можно писать код \n","# ========\n","print(a)\n","print(b)"],"execution_count":0,"outputs":[]},{"metadata":{"id":"OT01mk-C9kVq","colab_type":"code","colab":{}},"cell_type":"code","source":["def mult(a, b):\n","    # здесь напишите перемножение матриц без \n","    # использования NumPy и выведите результат \n","    pass"],"execution_count":0,"outputs":[]},{"metadata":{"id":"AyyDUyqh9kVs","colab_type":"code","colab":{}},"cell_type":"code","source":["def np_mult(a, b):\n","    # здесь напишите перемножение матриц с\n","    # использованием NumPy и выведите результат\n","    pass"],"execution_count":0,"outputs":[]},{"metadata":{"id":"bL4XGWIh9kVu","colab_type":"code","colab":{}},"cell_type":"code","source":["%%time\n","# засечем время работы функции без NumPy\n","mult(a,b)"],"execution_count":0,"outputs":[]},{"metadata":{"id":"Ej9y25jB9kVw","colab_type":"code","colab":{}},"cell_type":"code","source":["%%time\n","# засечем время работы функции с NumPy\n","np_mult(a,b)"],"execution_count":0,"outputs":[]},{"metadata":{"id":"pNEVDEQJ9kVz","colab_type":"text"},"cell_type":"markdown","source":["### Задание 2"]},{"metadata":{"id":"TNG-vLX_9kVz","colab_type":"text"},"cell_type":"markdown","source":["Напишите функцию, которая по данной последовательности $\\{A_i\\}_{i=1}^n$ строит последовательность $S_n$, где $S_k = \\frac{A_1 + ... + A_k}{k}$.\n","Аналогично -- с помощью библиотеки NumPy и без нее. Сравните скорость, объясните результат."]},{"metadata":{"id":"VNuFOp519kV0","colab_type":"code","colab":{}},"cell_type":"code","source":["# функция, решающая задачу с помощью NumPy\n","def sec_av(A):\n","    # Ваш код здесь\n","    pass"],"execution_count":0,"outputs":[]},{"metadata":{"id":"kgKYKkRR9kV2","colab_type":"code","colab":{}},"cell_type":"code","source":["# функция без NumPy\n","def stupid_sec_av(A):\n","    S = [0 for i in range(len(A))]\n","# Ваш код здесь\n","    return S\n","\n","# зададим некоторую последовательность и проверим ее на ваших функциях. \n","# Первая функция должна работать ~ в 50 раз быстрее\n","A = sps.uniform.rvs(size=10 ** 7) \n","\n","%time S1 = sec_av(A)\n","%time S2 = stupid_sec_av(A)\n","#проверим корректность:\n","np.abs(S1 - S2).sum()"],"execution_count":0,"outputs":[]},{"metadata":{"id":"hYOmgppl9kV5","colab_type":"text"},"cell_type":"markdown","source":["### Задание 3"]},{"metadata":{"id":"TkrFKdoJ9kV5","colab_type":"text"},"cell_type":"markdown","source":["Пусть задан некоторый массив $X$. Надо построить новый массив, где все элементы с нечетными индексами требуется заменить на число $a$ (если оно не указано, то на 1). Все четные элементы исходного массива нужно возвести в куб и записать в обратном порядке относительно позиций этих элементов. Массив $X$ при этом должен остаться без изменений. В конце требуется слить массив $X$ с преобразованным $X$ и вывести в обратном порядке."]},{"metadata":{"id":"MOUotbrS9kV7","colab_type":"code","colab":{}},"cell_type":"code","source":["# функция, решающая задачу с помощью NumPy\n","def transformation(X, a=1):\n","    # Ваш код здесь\n","    return Y"],"execution_count":0,"outputs":[]},{"metadata":{"id":"Ut3v_joM9kV9","colab_type":"code","colab":{}},"cell_type":"code","source":["# функция, решающая задачу  без NumPy\n","def stupid_transformation(X):\n","    # Ваш код здесь\n","    return Y"],"execution_count":0,"outputs":[]},{"metadata":{"id":"6SezU3-O9kV_","colab_type":"code","colab":{}},"cell_type":"code","source":["X = sps.uniform.rvs(size=10 ** 7) \n","# здесь код эффективнее примерно в 20 раз. \n","# если Вы вдруг соберетесь печатать массив без np -- лучше сначала посмотрите на его размер\n","%time S1 = transformation(X)\n","%time S2 = stupid_transformation(X)\n","# проверим корректность:\n","np.abs(S1 - S2).sum()"],"execution_count":0,"outputs":[]},{"metadata":{"id":"q7eDK6zZ9kWC","colab_type":"text"},"cell_type":"markdown","source":["Что вы можете сказать о скорости вычислений в `NumPy`? Ответ обоснуйте.\n","\n","**Ответ:**"]},{"metadata":{"id":"SLWNN0DA9kWF","colab_type":"text"},"cell_type":"markdown","source":["### Задание 4"]},{"metadata":{"id":"k1tdLLo29kWG","colab_type":"text"},"cell_type":"markdown","source":["Вам подаются на вход два вектора `a` и `b` в трехмерном пространстве.Заполните их случайными числами. Реализуйте их скалярное произведение с помощью  `NumPy` и без. Засеките время работы, как это показано в заданиях выше."]},{"metadata":{"id":"116WkBP49kWH","colab_type":"code","colab":{}},"cell_type":"code","source":["a = #тут ваш код\n","b = #тут ваш код"],"execution_count":0,"outputs":[]},{"metadata":{"id":"6HKKpgD39kWL","colab_type":"code","colab":{}},"cell_type":"code","source":["def stupid_scalar_product(a,b):\n","    #тут ваш код"],"execution_count":0,"outputs":[]},{"metadata":{"id":"lta984vp9kWP","colab_type":"code","colab":{}},"cell_type":"code","source":["def numpy_scalar_product(a,b):\n","    #тут ваш код"],"execution_count":0,"outputs":[]},{"metadata":{"id":"5QK3Yj5j9kWR","colab_type":"code","colab":{}},"cell_type":"code","source":["%time product_1 = stupid_scalar_product(a,b)\n","%time product_2 = numpy_scalar_product(a,b)\n","# проверим корректность:\n","np.abs(product_1 - product_2).sum()"],"execution_count":0,"outputs":[]},{"metadata":{"id":"J_7dapMK9kWS","colab_type":"text"},"cell_type":"markdown","source":["## Бонусная часть (в тесте вопросов по ней не будет)"]},{"metadata":{"id":"Ld2wo7J49kWT","colab_type":"text"},"cell_type":"markdown","source":["Image = 2-D численный массив\n","(или 3-D: CT, MRI, 2D + time; 4-D, …)\n","В текущем задании, image == Numpy array (np.array)"]},{"metadata":{"id":"4OvzTYbo9kWT","colab_type":"code","colab":{}},"cell_type":"code","source":["pic = misc.face() #встроенная в библиотеку функция, которая загружает картинку с енотом"],"execution_count":0,"outputs":[]},{"metadata":{"id":"7bfaJn7K9kWW","colab_type":"text"},"cell_type":"markdown","source":["Выведите тип и размеры для переменной pic. Что лежит внутри?"]},{"metadata":{"id":"MLlpZY-P9kWW","colab_type":"code","colab":{}},"cell_type":"code","source":["print(#тут ваш код)"],"execution_count":0,"outputs":[]},{"metadata":{"id":"x7SVBSJO9kWY","colab_type":"text"},"cell_type":"markdown","source":["Если вы все сделали правильно, что для формы у вас выведется кортеж из трех чисел: (X, Y, 3). Предположите, откуда там 3?\n","\n","**Ответ:**"]},{"metadata":{"id":"4glUbq3J9kWZ","colab_type":"text"},"cell_type":"markdown","source":["С помощью функции ниже можно вывести изображение и посмотреть, что находится внутри:"]},{"metadata":{"id":"wW3QcdHH9kWZ","colab_type":"code","colab":{}},"cell_type":"code","source":["plt.imshow(pic)"],"execution_count":0,"outputs":[]},{"metadata":{"id":"JZbV8aaV9kWb","colab_type":"text"},"cell_type":"markdown","source":["Убедитесь, что внутри массива `pic` действительно лежат числа. Выведите первые 10 записей.\n","Массив состоит из троек чисел, которые характеризуют глубину цвета для каждого пикселя. Из пикселей складывается картинка."]},{"metadata":{"id":"vnO9Nu3p9kWb","colab_type":"code","colab":{}},"cell_type":"code","source":["print(#тут ваш код)"],"execution_count":0,"outputs":[]},{"metadata":{"id":"OzS_dpQ59kWc","colab_type":"text"},"cell_type":"markdown","source":["Выведите значение максимального элемента в матрице. Выведите значение минимального. Выведите среднее по всем элементам матрице. В каких пределах лежат значения глубины цветов?"]},{"metadata":{"id":"8nLbvb7G9kWd","colab_type":"code","colab":{}},"cell_type":"code","source":["print(#тут ваш код)"],"execution_count":0,"outputs":[]},{"metadata":{"id":"7s08AjBO9kWf","colab_type":"text"},"cell_type":"markdown","source":["## Задание 2"]},{"metadata":{"id":"pqnS54SN9kWf","colab_type":"text"},"cell_type":"markdown","source":["Теперь загрузим черно-белое изображение енота, чтобы наш массив был не 3-х мерным тензором, а двумерным массивом. Тензоры обрабатываются точно также, но для простоты пока что давайте работать с двумерными массивами, т.е. матрицами."]},{"metadata":{"id":"B4WAhqU39kWf","colab_type":"code","colab":{}},"cell_type":"code","source":["pic = misc.face(gray=True)"],"execution_count":0,"outputs":[]},{"metadata":{"id":"AWuyI0k69kWh","colab_type":"code","colab":{}},"cell_type":"code","source":["plt.imshow(#тут ваш код)"],"execution_count":0,"outputs":[]},{"metadata":{"id":"5wGZtJnX9kWk","colab_type":"text"},"cell_type":"markdown","source":["Выведите форму (shape) полученной картинки `pic`. Какие выводы можно сделать? Положите в `h`,`w` высоту и ширину картинки."]},{"metadata":{"id":"3vVanBzU9kWk","colab_type":"code","colab":{}},"cell_type":"code","source":["print(#тут ваш код)\n","h,w=#тут ваш код"],"execution_count":0,"outputs":[]},{"metadata":{"id":"xelx9Hxc9kWl","colab_type":"text"},"cell_type":"markdown","source":["Используя библиотеку `numpy`, отразите изображение по горизонтали. Выведите картинку.\n","\n","Подсказка: не забывайте, что изображения -- это просто двумерные массивы"]},{"metadata":{"id":"PuBAIYwW9kWn","colab_type":"code","colab":{}},"cell_type":"code","source":["#тут ваш код"],"execution_count":0,"outputs":[]},{"metadata":{"id":"XExgeFAR9kWp","colab_type":"text"},"cell_type":"markdown","source":["Теперь давайте повысим контрастность -- для этого к каждому пикселю прибавим 50 единиц"]},{"metadata":{"id":"HqPiifvL9kWp","colab_type":"code","colab":{}},"cell_type":"code","source":["#тут ваш код"],"execution_count":0,"outputs":[]},{"metadata":{"id":"8mjGfjTK9kWs","colab_type":"code","colab":{}},"cell_type":"code","source":["plt.imshow(pic)"],"execution_count":0,"outputs":[]},{"metadata":{"id":"FPWOUsQH9kWu","colab_type":"text"},"cell_type":"markdown","source":["Теперь давайте попробуем превратить наше одноканальное изображение в трехканальный (RGB) тензор. Для этого вместо каждого пикселя в одноканальном изображении (в двумерном массиве) поставим кортеж из трех элементов -- глубины красного, зеленого и голубого соотвественно. Восстановить по ч/б картинке цветной мы не можем, так как мы не можем взять утерянную информацию из ниоткуда, но можем усилить черные и белые участки. Для этого давайте заполним все три канала одинаковыми значениями, деленными на что-то очень большое. Например $--$ на $200$.  То есть, например, если в пикселе `pic[i][j]` лежало значение **200**, то для нового изображения `new_pic` мы заполняем `new_pic[i][j]` кортежем из трех чисел `int(pic[i][j]/3)`. Функция `int` $--$ округление до целой части."]},{"metadata":{"id":"hEK9jRSf9kWv","colab_type":"code","colab":{}},"cell_type":"code","source":["new_pic = np.zeros((h,w,3)) #создадим пустую матрицу, куда будем записывать значения\n","for i in range(h):\n","    for j in range(w):\n","     #тут ваш код"],"execution_count":0,"outputs":[]},{"metadata":{"id":"_RUpiNo69kWx","colab_type":"code","colab":{}},"cell_type":"code","source":["plt.imshow(#тут ваш код)"],"execution_count":0,"outputs":[]},{"metadata":{"id":"OVO189tU9kWz","colab_type":"text"},"cell_type":"markdown","source":["## Задание 3"]},{"metadata":{"id":"kacDftwY9kW0","colab_type":"text"},"cell_type":"markdown","source":["Теперь давайте уменьшим качество картинки в 16 раз, путем уменьшения качества изображения, т.е. теперь 16 пикселей по близости надо заполнить одним значением."]},{"metadata":{"id":"s21pa_tJ9kW0","colab_type":"code","colab":{}},"cell_type":"code","source":["from sklearn.datasets import load_sample_image #импорт загрузчика изображения"],"execution_count":0,"outputs":[]},{"metadata":{"id":"yTt_fdLC9kW2","colab_type":"code","colab":{}},"cell_type":"code","source":["china = load_sample_image('china.jpg')\n","plt.imshow(china)"],"execution_count":0,"outputs":[]},{"metadata":{"id":"CV3st_wn9kW4","colab_type":"text"},"cell_type":"markdown","source":["Запишите в переменные `h`, `w`, `c` высоту, ширину, количество каналов соответственно для картинки `china`."]},{"metadata":{"id":"nJHwDMmv9kW4","colab_type":"code","colab":{}},"cell_type":"code","source":["h, w, c = #тут ваш код"],"execution_count":0,"outputs":[]},{"metadata":{"id":"xu3xAGDu9kW5","colab_type":"text"},"cell_type":"markdown","source":["Теперь давайте непосредственно перейдем к изменению картинки $--$ мы предлагаем разбивать картинки на квадраты 4 на 4 и заполнять все 16 значений внутри квадрата левым верхним значением. Вы можете сделать иначе."]},{"metadata":{"id":"GisNhXFK9kW6","colab_type":"code","colab":{}},"cell_type":"code","source":["from copy import copy\n","compressed_pic = copy(china)\n","#тут ваш код     "],"execution_count":0,"outputs":[]},{"metadata":{"id":"0Kzb067Y9kW8","colab_type":"text"},"cell_type":"markdown","source":["Напишите функцию, которая считает несоотвествие между исходной и сжатой картинкой. Запустите ваш код для `compressed_pic`, `china`"]},{"metadata":{"id":"39qh8JuZ9kW9","colab_type":"code","colab":{}},"cell_type":"code","source":["def calculate_mismatch(a,b):\n","    mismatch=0\n","    #тут ваш код\n","    print(mismatch)"],"execution_count":0,"outputs":[]},{"metadata":{"id":"kVYOFPMP9kW_","colab_type":"code","colab":{}},"cell_type":"code","source":["calculate_mismatch(#тут ваш код)"],"execution_count":0,"outputs":[]},{"metadata":{"id":"SxQTJIGs9kXF","colab_type":"text"},"cell_type":"markdown","source":["Посчитайте синус от каждого значения пикселей изображения `china` по всем каналам. Выведите картинку. Используйте функцию `np.sin` "]},{"metadata":{"id":"UsXNJxLm9kXF","colab_type":"code","colab":{}},"cell_type":"code","source":["#тут ваш код"],"execution_count":0,"outputs":[]},{"metadata":{"id":"v8K8YZ3-9kXH","colab_type":"code","colab":{}},"cell_type":"code","source":["plt.imshow(#тут ваш код) "],"execution_count":0,"outputs":[]},{"metadata":{"id":"0oH0MRQL9kXJ","colab_type":"text"},"cell_type":"markdown","source":["Посмотрите на полученный результат. Как вы думаете, что можно делать с помощью такого преобразования? Какого рода объекты можно распознать?"]},{"metadata":{"id":"KNJq_gfL9kXN","colab_type":"text"},"cell_type":"markdown","source":["### Задание 4*\n","это задание является дополнительным"]},{"metadata":{"id":"4ht209199kXO","colab_type":"text"},"cell_type":"markdown","source":["Теперь давайте поработаем с аудиофайлами. Стандартный аудиофайл представляет собой обычный набор чисел, в котором хранятся значения частот, снятых с определенной периодичностью. Итак, самая простая аудиодорожка $-$ одномерный массив.\n","\n","Первое, что нужно сделать $--$ установить библиотеку для работы с аудио. Она называется `librosa`. Гайд по установке: https://librosa.github.io/librosa/install.html\n"]},{"metadata":{"id":"nwg7Hn349kXP","colab_type":"code","colab":{}},"cell_type":"code","source":["import librosa #импортируем библиотеку\n","import IPython.display"],"execution_count":0,"outputs":[]},{"metadata":{"id":"kbvx2c_L9kXQ","colab_type":"code","colab":{}},"cell_type":"code","source":["audio, sr= librosa.load('Test.wav')  \n","# записываем наш массив звуковых частот в файл аудио, sr -- число точек, записываемых в секунду. \n","# чтобы файл открылся, он должен лежать в той же папке, что и файл HW_2.ipynb"],"execution_count":0,"outputs":[]},{"metadata":{"id":"w9Tipzz99kXS","colab_type":"text"},"cell_type":"markdown","source":["Нашу дорожку можно воспроизвести в самом файле `.ipynb`:"]},{"metadata":{"id":"T2Rr5zTX9kXT","colab_type":"code","colab":{}},"cell_type":"code","source":["IPython.display.Audio(audio, rate=sr)"],"execution_count":0,"outputs":[]},{"metadata":{"id":"QPRjmIoZ9kXW","colab_type":"text"},"cell_type":"markdown","source":["Выведите тип данных переменной `audio`, найдите ее длительность и среднее."]},{"metadata":{"id":"ECc4dGk49kXW","colab_type":"code","colab":{}},"cell_type":"code","source":["print(#тут ваш код)"],"execution_count":0,"outputs":[]},{"metadata":{"id":"574hvLOr9kXX","colab_type":"text"},"cell_type":"markdown","source":["    Давайте посмотрим, как выглядит наша дорожка. Для этого используем библиотеку `matplotlib.pyplot`"]},{"metadata":{"id":"uW5eBW5Q9kXY","colab_type":"code","colab":{}},"cell_type":"code","source":["plt.figure(figsize=(25,5))\n","plt.title('Test.wav')\n","plt.plot(audio)"],"execution_count":0,"outputs":[]},{"metadata":{"id":"uMboMRu89kXZ","colab_type":"text"},"cell_type":"markdown","source":["Обрежьте последние 4 секунды файла"]},{"metadata":{"id":"4CcwvAnb9kXb","colab_type":"code","colab":{}},"cell_type":"code","source":["audio = #тут ваш код"],"execution_count":0,"outputs":[]},{"metadata":{"id":"NQTEVqad9kXd","colab_type":"text"},"cell_type":"markdown","source":["Давайте уменьшим амплитуду на 25%. Что при этом изменится? Напоминаю, что вы всегда можете послушать изменения при помощи `IPython.display.Audio`"]},{"metadata":{"id":"aYkN5Tbe9kXd","colab_type":"code","colab":{}},"cell_type":"code","source":["audio = #тут ваш код"],"execution_count":0,"outputs":[]},{"metadata":{"id":"0mEQkKbc9kXf","colab_type":"text"},"cell_type":"markdown","source":["А еще аудиодорожку можно ускорить. Для этого попробуйте потюнить параметр `rate`"]},{"metadata":{"id":"kCIh5VqX9kXg","colab_type":"code","colab":{}},"cell_type":"code","source":["IPython.display.Audio(audio, rate=sr)"],"execution_count":0,"outputs":[]}]}
=======
{
 "cells": [
  {
   "cell_type": "markdown",
   "metadata": {
    "colab_type": "text",
    "id": "j3bbZRkqF3S1"
   },
   "source": [
    "<p style=\"align: center;\"><img align=center src=\"https://s8.hostingkartinok.com/uploads/images/2018/08/308b49fcfbc619d629fe4604bceb67ac.jpg\" width=500 height=450/></p>\n",
    "\n",
    "<h3 style=\"text-align: center;\"><b>Физтех-Школа Прикладной математики и информатики (ФПМИ) МФТИ</b></h3>\n"
   ]
  },
  {
   "cell_type": "markdown",
   "metadata": {
    "colab_type": "text",
    "id": "ElNwf2J6GDHg"
   },
   "source": [
    "---"
   ]
  },
  {
   "cell_type": "markdown",
   "metadata": {
    "colab_type": "text",
    "id": "9zWJc5rl9kVh"
   },
   "source": [
    "## Домашнее задание 2: библиотека Numpy и линейная алгебра\n"
   ]
  },
  {
   "cell_type": "markdown",
   "metadata": {
    "colab_type": "text",
    "id": "nq2vjOfwWLwF"
   },
   "source": [
    "Импортируем библиотеки:"
   ]
  },
  {
   "cell_type": "code",
   "execution_count": 1,
   "metadata": {
    "colab": {},
    "colab_type": "code",
    "id": "R0mDEfRJ9kVi"
   },
   "outputs": [],
   "source": [
    "import numpy as np\n",
    "import pandas as pd\n",
    "import matplotlib.pyplot as plt\n",
    "\n",
    "from scipy import ndimage  # спецификатор для работы с изображениями\n",
    "from scipy import misc\n",
    "import scipy.stats as sps\n",
    "\n",
    "from PIL import Image\n",
    "\n",
    "%matplotlib inline"
   ]
  },
  {
   "cell_type": "markdown",
   "metadata": {
    "colab_type": "text",
    "id": "8t9loOAc9kVm"
   },
   "source": [
    "*Вопросы для самопроверки:*\n",
    "1. Что такое NumPy?\n",
    "2. Зачем используется и почему работает быстрее?\n",
    "3. Что такое линейная алгебра?\n",
    "4. Как она связана с машинным обучением и глубоким обучением?"
   ]
  },
  {
   "cell_type": "markdown",
   "metadata": {
    "colab_type": "text",
    "id": "ZexBy7Kb9kVm"
   },
   "source": [
    "### Задание 1"
   ]
  },
  {
   "cell_type": "markdown",
   "metadata": {
    "colab_type": "text",
    "id": "QuJhYgJU9kVn"
   },
   "source": [
    "В первой задаче вам предлагается перемножить две квадратные матрицы двумя способами -- без использования пакета numpy и с ним."
   ]
  },
  {
   "cell_type": "code",
   "execution_count": 23,
   "metadata": {
    "colab": {},
    "colab_type": "code",
    "id": "506uaq1E9kVn"
   },
   "outputs": [
    {
     "name": "stdout",
     "output_type": "stream",
     "text": [
      "[[0.10330436 0.91227028 0.35483135 0.15618806 0.01476913 0.2499452\n",
      "  0.48997829 0.15439473 0.22543623 0.2260689 ]\n",
      " [0.95671306 0.28043065 0.65556878 0.11964111 0.07161176 0.99345542\n",
      "  0.29109581 0.32502482 0.42196493 0.78232129]\n",
      " [0.82599223 0.87424836 0.85877383 0.46661885 0.58114179 0.31788354\n",
      "  0.20186161 0.99510574 0.34982717 0.32527005]\n",
      " [0.96779494 0.64316737 0.72854125 0.84286825 0.14337015 0.66657886\n",
      "  0.16853475 0.7324312  0.19943142 0.31781775]\n",
      " [0.0814657  0.49159957 0.31045639 0.02057312 0.5752452  0.33676302\n",
      "  0.96080757 0.78870574 0.14859279 0.35937589]\n",
      " [0.03088472 0.71894146 0.45915116 0.53736194 0.89926047 0.10479953\n",
      "  0.09727285 0.59229835 0.19527318 0.72520093]\n",
      " [0.78946944 0.17050155 0.85869503 0.11652364 0.49166597 0.5413989\n",
      "  0.82434127 0.3503783  0.83535825 0.5091739 ]\n",
      " [0.87594767 0.76305782 0.14234129 0.13490759 0.58566089 0.60360431\n",
      "  0.72928479 0.02553975 0.94815909 0.30410513]\n",
      " [0.44606077 0.06362617 0.58743226 0.86079977 0.72412472 0.65600299\n",
      "  0.47206456 0.73266132 0.63337508 0.76930905]\n",
      " [0.39292132 0.79649504 0.56491711 0.01342778 0.13158976 0.31096941\n",
      "  0.69473838 0.67794241 0.3048105  0.85615794]]\n",
      "\n",
      "[[0.73092355 0.66495789 0.08818177 0.90445858 0.07942114 0.48444991\n",
      "  0.81038976 0.70215019 0.72422874 0.48879039]\n",
      " [0.36311022 0.06339975 0.28355714 0.66844508 0.55816568 0.86787768\n",
      "  0.42765312 0.1180643  0.96378571 0.14270167]\n",
      " [0.93539763 0.16596726 0.89395045 0.06282643 0.47918114 0.50136696\n",
      "  0.92832085 0.79571479 0.41138447 0.33324437]\n",
      " [0.39721098 0.5998591  0.57518691 0.45055086 0.47992032 0.01762682\n",
      "  0.78747775 0.46238929 0.76768567 0.89294972]\n",
      " [0.0597184  0.49151614 0.57116356 0.56779955 0.41744874 0.20891146\n",
      "  0.26935111 0.55178715 0.78994954 0.28692049]\n",
      " [0.2564114  0.76165109 0.90371861 0.26367545 0.85787579 0.3951848\n",
      "  0.31101785 0.73702046 0.64274725 0.46790422]\n",
      " [0.91510966 0.9501301  0.32066891 0.16059387 0.96352746 0.27392966\n",
      "  0.65929902 0.23716424 0.91011188 0.76733939]\n",
      " [0.72934051 0.4728489  0.72078591 0.68350169 0.10191053 0.24723829\n",
      "  0.21030169 0.07332802 0.49870441 0.07953867]\n",
      " [0.26248361 0.89096108 0.68281968 0.02718579 0.90355174 0.00333386\n",
      "  0.05722047 0.33903304 0.68654646 0.37242603]\n",
      " [0.57259153 0.67937997 0.36839296 0.23381808 0.78999694 0.77143065\n",
      "  0.91619698 0.2139809  0.65009518 0.50654356]]\n"
     ]
    }
   ],
   "source": [
    "# Для генерации матриц используем фукнцию random -- она используется для генерации случайных объектов \n",
    "# функция sample создает случайную выборку. В качестве аргумента ей передается кортеж (i,j), здесь i -- число строк,\n",
    "# j -- число столбцов.\n",
    "a = np.random.sample((10,10))\n",
    "b = np.random.sample((10,10))\n",
    "# выведите размерность (ранг) каждой матрицы с помощью функции ndim.\n",
    "# Используйте функцию shape, что она вывела?\n",
    "# ========\n",
    "# тут можно писать код \n",
    "# ========\n",
    "print(a[:20])\n",
    "print()\n",
    "print(b[:20])"
   ]
  },
  {
   "cell_type": "code",
   "execution_count": 28,
   "metadata": {
    "colab": {},
    "colab_type": "code",
    "id": "OT01mk-C9kVq"
   },
   "outputs": [],
   "source": [
    "def mult(a, b):\n",
    "    m = a.shape[0]\n",
    "    n = a.shape[1]\n",
    "    l = b.shape[1]\n",
    "    c = np.zeros((m,l))\n",
    "    for i in range(0,m):\n",
    "        for j in range(0,l):\n",
    "            for k in range(0,n):\n",
    "                c[i,j] += a[i,k] * b[k,j]\n",
    "    return c"
   ]
  },
  {
   "cell_type": "code",
   "execution_count": 29,
   "metadata": {
    "colab": {},
    "colab_type": "code",
    "id": "AyyDUyqh9kVs"
   },
   "outputs": [],
   "source": [
    "def np_mult(a, b):\n",
    "    return np.dot(a,b)"
   ]
  },
  {
   "cell_type": "code",
   "execution_count": 30,
   "metadata": {
    "colab": {},
    "colab_type": "code",
    "id": "bL4XGWIh9kVu"
   },
   "outputs": [
    {
     "name": "stdout",
     "output_type": "stream",
     "text": [
      "Wall time: 0 ns\n"
     ]
    },
    {
     "data": {
      "text/plain": [
       "array([[1.61528971, 1.36973237, 1.41476584, 1.11339509, 1.85310515,\n",
       "        1.47183853, 1.58349439, 0.97950166, 2.21691409, 1.14631034],\n",
       "       [2.78300919, 2.96410289, 2.66139724, 1.91375774, 2.79912082,\n",
       "        2.21021922, 2.92747934, 2.45687588, 3.24510504, 2.12098889],\n",
       "       [3.21460785, 2.74986178, 3.11672042, 2.80758066, 2.57328651,\n",
       "        2.39812192, 3.12370723, 2.446288  , 3.94729903, 2.07591695],\n",
       "       [3.05942405, 2.78906885, 2.92331812, 2.595362  , 2.48946369,\n",
       "        2.1736268 , 3.21308004, 2.52460779, 3.67142865, 2.33612399],\n",
       "       [2.35658277, 2.35081735, 2.17928722, 1.62793359, 2.39284766,\n",
       "        1.61130941, 1.97742662, 1.35038407, 2.95059306, 1.59180028],\n",
       "       [1.99464095, 2.02564225, 2.39306847, 1.91302739, 2.25038142,\n",
       "        1.84104954, 2.3209915 , 1.5817155 , 3.08384055, 1.61941203],\n",
       "       [3.17736504, 3.44130722, 2.99757486, 1.87001547, 3.28197747,\n",
       "        1.98769119, 3.03388895, 2.59529327, 3.74466644, 2.4242589 ],\n",
       "       [2.40281007, 3.23936084, 2.39017237, 2.09519664, 3.19297613,\n",
       "        1.96506753, 2.43910041, 2.21017148, 3.90766196, 2.22421363],\n",
       "       [3.02509256, 3.65198954, 3.47942532, 2.2285271 , 3.34014842,\n",
       "        1.89756106, 3.21734399, 2.61425108, 4.01050081, 2.75231452],\n",
       "       [2.89821037, 2.54900195, 2.36438537, 1.86946471, 2.76489265,\n",
       "        2.33486486, 2.7286658 , 1.62847109, 3.33497914, 1.82344623]])"
      ]
     },
     "execution_count": 30,
     "metadata": {},
     "output_type": "execute_result"
    }
   ],
   "source": [
    "%%time\n",
    "# засечем время работы функции без NumPy\n",
    "mult(a,b)"
   ]
  },
  {
   "cell_type": "code",
   "execution_count": 31,
   "metadata": {
    "colab": {},
    "colab_type": "code",
    "id": "Ej9y25jB9kVw"
   },
   "outputs": [
    {
     "name": "stdout",
     "output_type": "stream",
     "text": [
      "Wall time: 0 ns\n"
     ]
    },
    {
     "data": {
      "text/plain": [
       "array([[1.61528971, 1.36973237, 1.41476584, 1.11339509, 1.85310515,\n",
       "        1.47183853, 1.58349439, 0.97950166, 2.21691409, 1.14631034],\n",
       "       [2.78300919, 2.96410289, 2.66139724, 1.91375774, 2.79912082,\n",
       "        2.21021922, 2.92747934, 2.45687588, 3.24510504, 2.12098889],\n",
       "       [3.21460785, 2.74986178, 3.11672042, 2.80758066, 2.57328651,\n",
       "        2.39812192, 3.12370723, 2.446288  , 3.94729903, 2.07591695],\n",
       "       [3.05942405, 2.78906885, 2.92331812, 2.595362  , 2.48946369,\n",
       "        2.1736268 , 3.21308004, 2.52460779, 3.67142865, 2.33612399],\n",
       "       [2.35658277, 2.35081735, 2.17928722, 1.62793359, 2.39284766,\n",
       "        1.61130941, 1.97742662, 1.35038407, 2.95059306, 1.59180028],\n",
       "       [1.99464095, 2.02564225, 2.39306847, 1.91302739, 2.25038142,\n",
       "        1.84104954, 2.3209915 , 1.5817155 , 3.08384055, 1.61941203],\n",
       "       [3.17736504, 3.44130722, 2.99757486, 1.87001547, 3.28197747,\n",
       "        1.98769119, 3.03388895, 2.59529327, 3.74466644, 2.4242589 ],\n",
       "       [2.40281007, 3.23936084, 2.39017237, 2.09519664, 3.19297613,\n",
       "        1.96506753, 2.43910041, 2.21017148, 3.90766196, 2.22421363],\n",
       "       [3.02509256, 3.65198954, 3.47942532, 2.2285271 , 3.34014842,\n",
       "        1.89756106, 3.21734399, 2.61425108, 4.01050081, 2.75231452],\n",
       "       [2.89821037, 2.54900195, 2.36438537, 1.86946471, 2.76489265,\n",
       "        2.33486486, 2.7286658 , 1.62847109, 3.33497914, 1.82344623]])"
      ]
     },
     "execution_count": 31,
     "metadata": {},
     "output_type": "execute_result"
    }
   ],
   "source": [
    "%%time\n",
    "# засечем время работы функции с NumPy\n",
    "np_mult(a,b)"
   ]
  },
  {
   "cell_type": "code",
   "execution_count": 33,
   "metadata": {},
   "outputs": [
    {
     "name": "stdout",
     "output_type": "stream",
     "text": [
      "-7.771561172376096e-16\n"
     ]
    }
   ],
   "source": [
    "print((np_mult(a,b) - mult(a,b)).sum())"
   ]
  },
  {
   "cell_type": "markdown",
   "metadata": {
    "colab_type": "text",
    "id": "pNEVDEQJ9kVz"
   },
   "source": [
    "### Задание 2"
   ]
  },
  {
   "cell_type": "markdown",
   "metadata": {
    "colab_type": "text",
    "id": "TNG-vLX_9kVz"
   },
   "source": [
    "Напишите функцию, которая по данной последовательности $\\{A_i\\}_{i=1}^n$ строит последовательность $S_n$, где $S_k = \\frac{A_1 + ... + A_k}{k}$.\n",
    "Аналогично -- с помощью библиотеки NumPy и без нее. Сравните скорость, объясните результат."
   ]
  },
  {
   "cell_type": "code",
   "execution_count": 56,
   "metadata": {
    "colab": {},
    "colab_type": "code",
    "id": "VNuFOp519kV0"
   },
   "outputs": [],
   "source": [
    "# функция, решающая задачу с помощью NumPy\n",
    "def sec_av(A):\n",
    "    # Ваш код здесь\n",
    "    return np.cumsum(A) / np.arange(1, len(A) + 1)"
   ]
  },
  {
   "cell_type": "code",
   "execution_count": 57,
   "metadata": {
    "colab": {},
    "colab_type": "code",
    "id": "kgKYKkRR9kV2"
   },
   "outputs": [
    {
     "name": "stdout",
     "output_type": "stream",
     "text": [
      "Wall time: 116 ms\n",
      "Wall time: 5.7 s\n"
     ]
    },
    {
     "data": {
      "text/plain": [
       "0.0"
      ]
     },
     "execution_count": 57,
     "metadata": {},
     "output_type": "execute_result"
    }
   ],
   "source": [
    "# функция без NumPy\n",
    "def stupid_sec_av(A):\n",
    "    S = [0 for i in range(len(A))]\n",
    "    for i in range(0, len(A)):\n",
    "        if i != 0:\n",
    "            S[i] = S[i-1] + A[i]\n",
    "        else:\n",
    "            S[i] = A[i]\n",
    "\n",
    "    for i in range(len(A)):\n",
    "        S[i] /= (i+1)\n",
    "\n",
    "    return S\n",
    "\n",
    "# зададим некоторую последовательность и проверим ее на ваших функциях. \n",
    "# Первая функция должна работать ~ в 50 раз быстрее\n",
    "A = sps.uniform.rvs(size=10 ** 7) \n",
    "\n",
    "%time S1 = sec_av(A)\n",
    "%time S2 = stupid_sec_av(A)\n",
    "#проверим корректность:\n",
    "np.abs(S1 - S2).sum()"
   ]
  },
  {
   "cell_type": "markdown",
   "metadata": {
    "colab_type": "text",
    "id": "hYOmgppl9kV5"
   },
   "source": [
    "### Задание 3"
   ]
  },
  {
   "cell_type": "markdown",
   "metadata": {
    "colab_type": "text",
    "id": "TkrFKdoJ9kV5"
   },
   "source": [
    "Пусть задан некоторый массив $X$. Надо построить новый массив, где все элементы с нечетными индексами требуется заменить на число $a$ (если оно не указано, то на 1). Все четные элементы исходного массива нужно возвести в куб и записать в обратном порядке относительно позиций этих элементов. Массив $X$ при этом должен остаться без изменений. В конце требуется слить массив $X$ с преобразованным $X$ и вывести в обратном порядке."
   ]
  },
  {
   "cell_type": "code",
   "execution_count": 58,
   "metadata": {
    "colab": {},
    "colab_type": "code",
    "id": "MOUotbrS9kV7"
   },
   "outputs": [
    {
     "ename": "IndentationError",
     "evalue": "expected an indented block (<ipython-input-58-1d6d1ff164d9>, line 6)",
     "output_type": "error",
     "traceback": [
      "\u001b[1;36m  File \u001b[1;32m\"<ipython-input-58-1d6d1ff164d9>\"\u001b[1;36m, line \u001b[1;32m6\u001b[0m\n\u001b[1;33m    return Y\u001b[0m\n\u001b[1;37m         ^\u001b[0m\n\u001b[1;31mIndentationError\u001b[0m\u001b[1;31m:\u001b[0m expected an indented block\n"
     ]
    }
   ],
   "source": [
    "# функция, решающая задачу с помощью NumPy\n",
    "def transformation(X, a=1):\n",
    "    # Ваш код здесь\n",
    "    return Y"
   ]
  },
  {
   "cell_type": "code",
   "execution_count": 59,
   "metadata": {
    "colab": {},
    "colab_type": "code",
    "id": "Ut3v_joM9kV9"
   },
   "outputs": [],
   "source": [
    "# функция, решающая задачу  без NumPy\n",
    "def stupid_transformation(X):\n",
    "    # Ваш код здесь\n",
    "    l = len(X)\n",
    "    for i in range(0, l, 2):\n",
    "        print(i)\n",
    "    return Y"
   ]
  },
  {
   "cell_type": "code",
   "execution_count": 60,
   "metadata": {
    "colab": {},
    "colab_type": "code",
    "id": "6SezU3-O9kV_"
   },
   "outputs": [
    {
     "name": "stdout",
     "output_type": "stream",
     "text": [
      "0\n",
      "2\n",
      "4\n",
      "6\n",
      "8\n"
     ]
    },
    {
     "ename": "NameError",
     "evalue": "name 'Y' is not defined",
     "output_type": "error",
     "traceback": [
      "\u001b[1;31m---------------------------------------------------------------------------\u001b[0m",
      "\u001b[1;31mNameError\u001b[0m                                 Traceback (most recent call last)",
      "\u001b[1;32m<timed exec>\u001b[0m in \u001b[0;36m<module>\u001b[1;34m\u001b[0m\n",
      "\u001b[1;32m<ipython-input-59-bc8b1e0ba7ef>\u001b[0m in \u001b[0;36mstupid_transformation\u001b[1;34m(X)\u001b[0m\n\u001b[0;32m      5\u001b[0m     \u001b[1;32mfor\u001b[0m \u001b[0mi\u001b[0m \u001b[1;32min\u001b[0m \u001b[0mrange\u001b[0m\u001b[1;33m(\u001b[0m\u001b[1;36m0\u001b[0m\u001b[1;33m,\u001b[0m \u001b[0ml\u001b[0m\u001b[1;33m,\u001b[0m \u001b[1;36m2\u001b[0m\u001b[1;33m)\u001b[0m\u001b[1;33m:\u001b[0m\u001b[1;33m\u001b[0m\u001b[0m\n\u001b[0;32m      6\u001b[0m         \u001b[0mprint\u001b[0m\u001b[1;33m(\u001b[0m\u001b[0mi\u001b[0m\u001b[1;33m)\u001b[0m\u001b[1;33m\u001b[0m\u001b[0m\n\u001b[1;32m----> 7\u001b[1;33m     \u001b[1;32mreturn\u001b[0m \u001b[0mY\u001b[0m\u001b[1;33m\u001b[0m\u001b[0m\n\u001b[0m",
      "\u001b[1;31mNameError\u001b[0m: name 'Y' is not defined"
     ]
    }
   ],
   "source": [
    "# X = sps.uniform.rvs(size=10 ** 7) \n",
    "X = sps.uniform.rvs(size=10) \n",
    "# здесь код эффективнее примерно в 20 раз. \n",
    "# если Вы вдруг соберетесь печатать массив без np -- лучше сначала посмотрите на его размер\n",
    "# %time S1 = transformation(X)\n",
    "%time S2 = stupid_transformation(X)\n",
    "# проверим корректность:\n",
    "# np.abs(S1 - S2).sum()"
   ]
  },
  {
   "cell_type": "markdown",
   "metadata": {
    "colab_type": "text",
    "id": "q7eDK6zZ9kWC"
   },
   "source": [
    "Что вы можете сказать о скорости вычислений в `NumPy`? Ответ обоснуйте.\n",
    "\n",
    "**Ответ:**"
   ]
  },
  {
   "cell_type": "markdown",
   "metadata": {
    "colab_type": "text",
    "id": "SLWNN0DA9kWF"
   },
   "source": [
    "### Задание 4"
   ]
  },
  {
   "cell_type": "markdown",
   "metadata": {
    "colab_type": "text",
    "id": "k1tdLLo29kWG"
   },
   "source": [
    "Вам подаются на вход два вектора `a` и `b` в трехмерном пространстве.Заполните их случайными числами. Реализуйте их скалярное произведение с помощью  `NumPy` и без. Засеките время работы, как это показано в заданиях выше."
   ]
  },
  {
   "cell_type": "code",
   "execution_count": 0,
   "metadata": {
    "colab": {},
    "colab_type": "code",
    "id": "116WkBP49kWH"
   },
   "outputs": [],
   "source": [
    "a = #тут ваш код\n",
    "b = #тут ваш код"
   ]
  },
  {
   "cell_type": "code",
   "execution_count": 0,
   "metadata": {
    "colab": {},
    "colab_type": "code",
    "id": "6HKKpgD39kWL"
   },
   "outputs": [],
   "source": [
    "def stupid_scalar_product(a,b):\n",
    "    #тут ваш код"
   ]
  },
  {
   "cell_type": "code",
   "execution_count": 0,
   "metadata": {
    "colab": {},
    "colab_type": "code",
    "id": "lta984vp9kWP"
   },
   "outputs": [],
   "source": [
    "def numpy_scalar_product(a,b):\n",
    "    #тут ваш код"
   ]
  },
  {
   "cell_type": "code",
   "execution_count": 0,
   "metadata": {
    "colab": {},
    "colab_type": "code",
    "id": "5QK3Yj5j9kWR"
   },
   "outputs": [],
   "source": [
    "%time product_1 = stupid_scalar_product(a,b)\n",
    "%time product_2 = numpy_scalar_product(a,b)\n",
    "# проверим корректность:\n",
    "np.abs(product_1 - product_2).sum()"
   ]
  },
  {
   "cell_type": "markdown",
   "metadata": {
    "colab_type": "text",
    "id": "H7BjRjaOSPjv"
   },
   "source": [
    "### Задание 5*"
   ]
  },
  {
   "cell_type": "markdown",
   "metadata": {
    "colab_type": "text",
    "id": "yfDNm_8QSPx9"
   },
   "source": [
    "Нужно написать матричное произведение БЕЗ циклов и БЕЗ символа @, БЕЗ `np.dot` и вообще БЕЗ какой-либо вспомогательной функции из `numpy`, то есть пользуясь только индексированием, взятем суммы по нужным осям и поэлементным произведенем (да, это возможно). Рекомендуем гуглить по запросу \"NumPy broadcasting\""
   ]
  },
  {
   "cell_type": "code",
   "execution_count": 0,
   "metadata": {
    "colab": {},
    "colab_type": "code",
    "id": "odEvxgLiSP65"
   },
   "outputs": [],
   "source": [
    "def cool_matrix_product(A, B):\n",
    "    # Ваш код здесь"
   ]
  },
  {
   "cell_type": "code",
   "execution_count": 0,
   "metadata": {
    "colab": {},
    "colab_type": "code",
    "id": "4aO8bEs9SvJ8"
   },
   "outputs": [],
   "source": [
    "# тут проверьте, что всё правильно перемножается"
   ]
  },
  {
   "cell_type": "markdown",
   "metadata": {
    "colab_type": "text",
    "id": "KrJBnpIQSpVB"
   },
   "source": [
    "Ваш код не будет проверяться нами непосредственно, однако это очень и очень полезное упражнение."
   ]
  },
  {
   "cell_type": "markdown",
   "metadata": {
    "colab_type": "text",
    "id": "J_7dapMK9kWS"
   },
   "source": [
    "## Бонусная часть (в тесте вопросов по ней не будет)"
   ]
  },
  {
   "cell_type": "markdown",
   "metadata": {
    "colab_type": "text",
    "id": "Ld2wo7J49kWT"
   },
   "source": [
    "Image = 2-D численный массив\n",
    "(или 3-D: CT, MRI, 2D + time; 4-D, …)\n",
    "В текущем задании, image == Numpy array (np.array)"
   ]
  },
  {
   "cell_type": "code",
   "execution_count": 0,
   "metadata": {
    "colab": {},
    "colab_type": "code",
    "id": "4OvzTYbo9kWT"
   },
   "outputs": [],
   "source": [
    "pic = misc.face()  # встроенная в библиотеку функция, которая загружает картинку с енотом"
   ]
  },
  {
   "cell_type": "markdown",
   "metadata": {
    "colab_type": "text",
    "id": "7bfaJn7K9kWW"
   },
   "source": [
    "Выведите тип и размеры для переменной pic. Что лежит внутри?"
   ]
  },
  {
   "cell_type": "code",
   "execution_count": 0,
   "metadata": {
    "colab": {},
    "colab_type": "code",
    "id": "MLlpZY-P9kWW"
   },
   "outputs": [],
   "source": [
    "print(#тут ваш код)"
   ]
  },
  {
   "cell_type": "markdown",
   "metadata": {
    "colab_type": "text",
    "id": "x7SVBSJO9kWY"
   },
   "source": [
    "Если вы все сделали правильно, что для формы у вас выведется кортеж из трех чисел: (X, Y, 3). Предположите, откуда там 3?\n",
    "\n",
    "**Ответ:**"
   ]
  },
  {
   "cell_type": "markdown",
   "metadata": {
    "colab_type": "text",
    "id": "4glUbq3J9kWZ"
   },
   "source": [
    "С помощью функции ниже можно вывести изображение и посмотреть, что находится внутри:"
   ]
  },
  {
   "cell_type": "code",
   "execution_count": 0,
   "metadata": {
    "colab": {},
    "colab_type": "code",
    "id": "wW3QcdHH9kWZ"
   },
   "outputs": [],
   "source": [
    "plt.imshow(pic)"
   ]
  },
  {
   "cell_type": "markdown",
   "metadata": {
    "colab_type": "text",
    "id": "JZbV8aaV9kWb"
   },
   "source": [
    "Убедитесь, что внутри массива `pic` действительно лежат числа. Выведите первые 10 записей.\n",
    "Массив состоит из троек чисел, которые характеризуют глубину цвета для каждого пикселя. Из пикселей складывается картинка."
   ]
  },
  {
   "cell_type": "code",
   "execution_count": 0,
   "metadata": {
    "colab": {},
    "colab_type": "code",
    "id": "vnO9Nu3p9kWb"
   },
   "outputs": [],
   "source": [
    "print(#тут ваш код)"
   ]
  },
  {
   "cell_type": "markdown",
   "metadata": {
    "colab_type": "text",
    "id": "OzS_dpQ59kWc"
   },
   "source": [
    "Выведите значение максимального элемента в матрице. Выведите значение минимального. Выведите среднее по всем элементам матрице. В каких пределах лежат значения глубины цветов?"
   ]
  },
  {
   "cell_type": "code",
   "execution_count": 0,
   "metadata": {
    "colab": {},
    "colab_type": "code",
    "id": "8nLbvb7G9kWd"
   },
   "outputs": [],
   "source": [
    "print(#тут ваш код)"
   ]
  },
  {
   "cell_type": "markdown",
   "metadata": {
    "colab_type": "text",
    "id": "7s08AjBO9kWf"
   },
   "source": [
    "### Задание 2"
   ]
  },
  {
   "cell_type": "markdown",
   "metadata": {
    "colab_type": "text",
    "id": "pqnS54SN9kWf"
   },
   "source": [
    "Теперь загрузим черно-белое изображение енота, чтобы наш массив был не 3-х мерным тензором, а двумерным массивом. Тензоры обрабатываются точно также, но для простоты пока что давайте работать с двумерными массивами, т.е. матрицами."
   ]
  },
  {
   "cell_type": "code",
   "execution_count": 0,
   "metadata": {
    "colab": {},
    "colab_type": "code",
    "id": "B4WAhqU39kWf"
   },
   "outputs": [],
   "source": [
    "pic = misc.face(gray=True)"
   ]
  },
  {
   "cell_type": "code",
   "execution_count": 0,
   "metadata": {
    "colab": {},
    "colab_type": "code",
    "id": "AWuyI0k69kWh"
   },
   "outputs": [],
   "source": [
    "plt.imshow(#тут ваш код)"
   ]
  },
  {
   "cell_type": "markdown",
   "metadata": {
    "colab_type": "text",
    "id": "5wGZtJnX9kWk"
   },
   "source": [
    "Выведите форму (shape) полученной картинки `pic`. Какие выводы можно сделать? Положите в `h`,`w` высоту и ширину картинки."
   ]
  },
  {
   "cell_type": "code",
   "execution_count": 0,
   "metadata": {
    "colab": {},
    "colab_type": "code",
    "id": "3vVanBzU9kWk"
   },
   "outputs": [],
   "source": [
    "print(#тут ваш код)\n",
    "h,w=#тут ваш код"
   ]
  },
  {
   "cell_type": "markdown",
   "metadata": {
    "colab_type": "text",
    "id": "xelx9Hxc9kWl"
   },
   "source": [
    "Используя библиотеку `numpy`, отразите изображение по горизонтали. Выведите картинку.\n",
    "\n",
    "Подсказка: не забывайте, что изображения -- это просто двумерные массивы"
   ]
  },
  {
   "cell_type": "code",
   "execution_count": 0,
   "metadata": {
    "colab": {},
    "colab_type": "code",
    "id": "PuBAIYwW9kWn"
   },
   "outputs": [],
   "source": [
    "#тут ваш код"
   ]
  },
  {
   "cell_type": "markdown",
   "metadata": {
    "colab_type": "text",
    "id": "XExgeFAR9kWp"
   },
   "source": [
    "Теперь давайте повысим контрастность -- для этого к каждому пикселю прибавим 50 единиц"
   ]
  },
  {
   "cell_type": "code",
   "execution_count": 0,
   "metadata": {
    "colab": {},
    "colab_type": "code",
    "id": "HqPiifvL9kWp"
   },
   "outputs": [],
   "source": [
    "#тут ваш код"
   ]
  },
  {
   "cell_type": "code",
   "execution_count": 0,
   "metadata": {
    "colab": {},
    "colab_type": "code",
    "id": "8mjGfjTK9kWs"
   },
   "outputs": [],
   "source": [
    "plt.imshow(pic)"
   ]
  },
  {
   "cell_type": "markdown",
   "metadata": {
    "colab_type": "text",
    "id": "FPWOUsQH9kWu"
   },
   "source": [
    "Теперь давайте попробуем превратить наше одноканальное изображение в трехканальный (RGB) тензор. Для этого вместо каждого пикселя в одноканальном изображении (в двумерном массиве) поставим кортеж из трех элементов -- глубины красного, зеленого и голубого соотвественно. Восстановить по ч/б картинке цветной мы не можем, так как мы не можем взять утерянную информацию из ниоткуда, но можем усилить черные и белые участки. Для этого давайте заполним все три канала одинаковыми значениями, деленными на что-то очень большое. Например $--$ на $200$.  То есть, например, если в пикселе `pic[i][j]` лежало значение **200**, то для нового изображения `new_pic` мы заполняем `new_pic[i][j]` кортежем из трех чисел `int(pic[i][j]/3)`. Функция `int` $--$ округление до целой части."
   ]
  },
  {
   "cell_type": "code",
   "execution_count": 0,
   "metadata": {
    "colab": {},
    "colab_type": "code",
    "id": "hEK9jRSf9kWv"
   },
   "outputs": [],
   "source": [
    "new_pic = np.zeros((h,w,3)) #создадим пустую матрицу, куда будем записывать значения\n",
    "for i in range(h):\n",
    "    for j in range(w):\n",
    "     #тут ваш код"
   ]
  },
  {
   "cell_type": "code",
   "execution_count": 0,
   "metadata": {
    "colab": {},
    "colab_type": "code",
    "id": "_RUpiNo69kWx"
   },
   "outputs": [],
   "source": [
    "plt.imshow(#тут ваш код)"
   ]
  },
  {
   "cell_type": "markdown",
   "metadata": {
    "colab_type": "text",
    "id": "OVO189tU9kWz"
   },
   "source": [
    "### Задание 3"
   ]
  },
  {
   "cell_type": "markdown",
   "metadata": {
    "colab_type": "text",
    "id": "kacDftwY9kW0"
   },
   "source": [
    "Теперь давайте уменьшим качество картинки в 16 раз, путем уменьшения качества изображения, т.е. теперь 16 пикселей по близости надо заполнить одним значением."
   ]
  },
  {
   "cell_type": "code",
   "execution_count": 0,
   "metadata": {
    "colab": {},
    "colab_type": "code",
    "id": "s21pa_tJ9kW0"
   },
   "outputs": [],
   "source": [
    "from sklearn.datasets import load_sample_image #импорт загрузчика изображения"
   ]
  },
  {
   "cell_type": "code",
   "execution_count": 0,
   "metadata": {
    "colab": {},
    "colab_type": "code",
    "id": "yTt_fdLC9kW2"
   },
   "outputs": [],
   "source": [
    "china = load_sample_image('china.jpg')\n",
    "plt.imshow(china)"
   ]
  },
  {
   "cell_type": "markdown",
   "metadata": {
    "colab_type": "text",
    "id": "CV3st_wn9kW4"
   },
   "source": [
    "Запишите в переменные `h`, `w`, `c` высоту, ширину, количество каналов соответственно для картинки `china`."
   ]
  },
  {
   "cell_type": "code",
   "execution_count": 0,
   "metadata": {
    "colab": {},
    "colab_type": "code",
    "id": "nJHwDMmv9kW4"
   },
   "outputs": [],
   "source": [
    "h, w, c = #тут ваш код"
   ]
  },
  {
   "cell_type": "markdown",
   "metadata": {
    "colab_type": "text",
    "id": "xu3xAGDu9kW5"
   },
   "source": [
    "Теперь давайте непосредственно перейдем к изменению картинки $--$ мы предлагаем разбивать картинки на квадраты 4 на 4 и заполнять все 16 значений внутри квадрата левым верхним значением. Вы можете сделать иначе."
   ]
  },
  {
   "cell_type": "code",
   "execution_count": 0,
   "metadata": {
    "colab": {},
    "colab_type": "code",
    "id": "GisNhXFK9kW6"
   },
   "outputs": [],
   "source": [
    "from copy import copy\n",
    "compressed_pic = copy(china)\n",
    "#тут ваш код     "
   ]
  },
  {
   "cell_type": "markdown",
   "metadata": {
    "colab_type": "text",
    "id": "0Kzb067Y9kW8"
   },
   "source": [
    "Напишите функцию, которая считает несоотвествие между исходной и сжатой картинкой. Запустите ваш код для `compressed_pic`, `china`"
   ]
  },
  {
   "cell_type": "code",
   "execution_count": 0,
   "metadata": {
    "colab": {},
    "colab_type": "code",
    "id": "39qh8JuZ9kW9"
   },
   "outputs": [],
   "source": [
    "def calculate_mismatch(a,b):\n",
    "    mismatch=0\n",
    "    #тут ваш код\n",
    "    print(mismatch)"
   ]
  },
  {
   "cell_type": "code",
   "execution_count": 0,
   "metadata": {
    "colab": {},
    "colab_type": "code",
    "id": "kVYOFPMP9kW_"
   },
   "outputs": [],
   "source": [
    "calculate_mismatch(#тут ваш код)"
   ]
  },
  {
   "cell_type": "markdown",
   "metadata": {
    "colab_type": "text",
    "id": "SxQTJIGs9kXF"
   },
   "source": [
    "Посчитайте синус от каждого значения пикселей изображения `china` по всем каналам. Выведите картинку. Используйте функцию `np.sin` "
   ]
  },
  {
   "cell_type": "code",
   "execution_count": 0,
   "metadata": {
    "colab": {},
    "colab_type": "code",
    "id": "UsXNJxLm9kXF"
   },
   "outputs": [],
   "source": [
    "#тут ваш код"
   ]
  },
  {
   "cell_type": "code",
   "execution_count": 0,
   "metadata": {
    "colab": {},
    "colab_type": "code",
    "id": "v8K8YZ3-9kXH"
   },
   "outputs": [],
   "source": [
    "plt.imshow(#тут ваш код) "
   ]
  },
  {
   "cell_type": "markdown",
   "metadata": {
    "colab_type": "text",
    "id": "0oH0MRQL9kXJ"
   },
   "source": [
    "Посмотрите на полученный результат. Как вы думаете, что можно делать с помощью такого преобразования? Какого рода объекты можно распознать?"
   ]
  },
  {
   "cell_type": "markdown",
   "metadata": {
    "colab_type": "text",
    "id": "KNJq_gfL9kXN"
   },
   "source": [
    "### Задание 4*"
   ]
  },
  {
   "cell_type": "markdown",
   "metadata": {
    "colab_type": "text",
    "id": "4ht209199kXO"
   },
   "source": [
    "Теперь давайте поработаем с аудиофайлами. Стандартный аудиофайл представляет собой обычный набор чисел, в котором хранятся значения частот, снятых с определенной периодичностью. Итак, самая простая аудиодорожка $-$ одномерный массив.\n",
    "\n",
    "Первое, что нужно сделать $--$ установить библиотеку для работы с аудио. Она называется `librosa`. Гайд по установке: https://librosa.github.io/librosa/install.html\n"
   ]
  },
  {
   "cell_type": "code",
   "execution_count": 0,
   "metadata": {
    "colab": {},
    "colab_type": "code",
    "id": "nwg7Hn349kXP"
   },
   "outputs": [],
   "source": [
    "import librosa #импортируем библиотеку\n",
    "import IPython.display"
   ]
  },
  {
   "cell_type": "code",
   "execution_count": 0,
   "metadata": {
    "colab": {},
    "colab_type": "code",
    "id": "kbvx2c_L9kXQ"
   },
   "outputs": [],
   "source": [
    "audio, sr= librosa.load('Test.wav')  \n",
    "# записываем наш массив звуковых частот в файл аудио, sr -- число точек, записываемых в секунду. \n",
    "# чтобы файл открылся, он должен лежать в той же папке, что и файл HW_2.ipynb"
   ]
  },
  {
   "cell_type": "markdown",
   "metadata": {
    "colab_type": "text",
    "id": "w9Tipzz99kXS"
   },
   "source": [
    "Нашу дорожку можно воспроизвести в самом файле `.ipynb`:"
   ]
  },
  {
   "cell_type": "code",
   "execution_count": 0,
   "metadata": {
    "colab": {},
    "colab_type": "code",
    "id": "T2Rr5zTX9kXT"
   },
   "outputs": [],
   "source": [
    "IPython.display.Audio(audio, rate=sr)"
   ]
  },
  {
   "cell_type": "markdown",
   "metadata": {
    "colab_type": "text",
    "id": "QPRjmIoZ9kXW"
   },
   "source": [
    "Выведите тип данных переменной `audio`, найдите ее длительность и среднее."
   ]
  },
  {
   "cell_type": "code",
   "execution_count": 0,
   "metadata": {
    "colab": {},
    "colab_type": "code",
    "id": "ECc4dGk49kXW"
   },
   "outputs": [],
   "source": [
    "print(#тут ваш код)"
   ]
  },
  {
   "cell_type": "markdown",
   "metadata": {
    "colab_type": "text",
    "id": "574hvLOr9kXX"
   },
   "source": [
    "    Давайте посмотрим, как выглядит наша дорожка. Для этого используем библиотеку `matplotlib.pyplot`"
   ]
  },
  {
   "cell_type": "code",
   "execution_count": 0,
   "metadata": {
    "colab": {},
    "colab_type": "code",
    "id": "uW5eBW5Q9kXY"
   },
   "outputs": [],
   "source": [
    "plt.figure(figsize=(25,5))\n",
    "plt.title('Test.wav')\n",
    "plt.plot(audio)"
   ]
  },
  {
   "cell_type": "markdown",
   "metadata": {
    "colab_type": "text",
    "id": "uMboMRu89kXZ"
   },
   "source": [
    "Обрежьте последние 4 секунды файла"
   ]
  },
  {
   "cell_type": "code",
   "execution_count": 0,
   "metadata": {
    "colab": {},
    "colab_type": "code",
    "id": "4CcwvAnb9kXb"
   },
   "outputs": [],
   "source": [
    "audio = #тут ваш код"
   ]
  },
  {
   "cell_type": "markdown",
   "metadata": {
    "colab_type": "text",
    "id": "NQTEVqad9kXd"
   },
   "source": [
    "Давайте уменьшим амплитуду на 25%. Что при этом изменится? Напоминаю, что вы всегда можете послушать изменения при помощи `IPython.display.Audio`"
   ]
  },
  {
   "cell_type": "code",
   "execution_count": 0,
   "metadata": {
    "colab": {},
    "colab_type": "code",
    "id": "aYkN5Tbe9kXd"
   },
   "outputs": [],
   "source": [
    "audio = #тут ваш код"
   ]
  },
  {
   "cell_type": "markdown",
   "metadata": {
    "colab_type": "text",
    "id": "0mEQkKbc9kXf"
   },
   "source": [
    "А еще аудиодорожку можно ускорить. Для этого попробуйте потюнить параметр `rate`"
   ]
  },
  {
   "cell_type": "code",
   "execution_count": 0,
   "metadata": {
    "colab": {},
    "colab_type": "code",
    "id": "kCIh5VqX9kXg"
   },
   "outputs": [],
   "source": [
    "IPython.display.Audio(audio, rate=sr)"
   ]
  }
 ],
 "metadata": {
  "colab": {
   "collapsed_sections": [],
   "name": "[homework]numpy.ipynb",
   "provenance": [],
   "version": "0.3.2"
  },
  "kernelspec": {
   "display_name": "Python 3",
   "language": "python",
   "name": "python3"
  },
  "language_info": {
   "codemirror_mode": {
    "name": "ipython",
    "version": 3
   },
   "file_extension": ".py",
   "mimetype": "text/x-python",
   "name": "python",
   "nbconvert_exporter": "python",
   "pygments_lexer": "ipython3",
   "version": "3.6.4"
  }
 },
 "nbformat": 4,
 "nbformat_minor": 1
}
>>>>>>> f3656a3484312cd2a78d1e61b544df3873cb0fa6
